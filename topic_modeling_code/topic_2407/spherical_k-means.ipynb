{
 "cells": [
  {
   "cell_type": "code",
   "execution_count": 5,
   "metadata": {},
   "outputs": [],
   "source": [
    "import pandas as pd\n",
    "import matplotlib.pyplot as plt\n",
    "import seaborn as sns\n",
    "%matplotlib inline\n",
    "\n",
    "import re"
   ]
  },
  {
   "cell_type": "code",
   "execution_count": 6,
   "metadata": {},
   "outputs": [
    {
     "data": {
      "text/plain": [
       "['A타입', 'PD충전', '것', 'C타입', '개']"
      ]
     },
     "execution_count": 6,
     "metadata": {},
     "output_type": "execute_result"
    }
   ],
   "source": [
    "from konlpy.tag import Mecab\n",
    "\n",
    "m = Mecab(dicpath = 'C:/mecab/mecab-ko-dic')\n",
    "m.nouns('A타입도 좋고, PD충전 되는 것도 좋아요. C타입 여러개 있어서 좋습니다, 110V')"
   ]
  },
  {
   "cell_type": "code",
   "execution_count": 7,
   "metadata": {},
   "outputs": [
    {
     "data": {
      "text/html": [
       "<div>\n",
       "<style scoped>\n",
       "    .dataframe tbody tr th:only-of-type {\n",
       "        vertical-align: middle;\n",
       "    }\n",
       "\n",
       "    .dataframe tbody tr th {\n",
       "        vertical-align: top;\n",
       "    }\n",
       "\n",
       "    .dataframe thead th {\n",
       "        text-align: right;\n",
       "    }\n",
       "</style>\n",
       "<table border=\"1\" class=\"dataframe\">\n",
       "  <thead>\n",
       "    <tr style=\"text-align: right;\">\n",
       "      <th></th>\n",
       "      <th>add_rule_based_split_review</th>\n",
       "    </tr>\n",
       "  </thead>\n",
       "  <tbody>\n",
       "    <tr>\n",
       "      <th>0</th>\n",
       "      <td>금액 차이 얼마 안 나는데 기능은 더 좋아요</td>\n",
       "    </tr>\n",
       "    <tr>\n",
       "      <th>1</th>\n",
       "      <td>콤팩트한 디자인과 실용성에 높은 점수 주었습니다</td>\n",
       "    </tr>\n",
       "    <tr>\n",
       "      <th>2</th>\n",
       "      <td>전면 스크래치가 많아서 아쉽네요</td>\n",
       "    </tr>\n",
       "    <tr>\n",
       "      <th>3</th>\n",
       "      <td>말 그대로 멀티 어댑터에요 해외여행 필수 탬</td>\n",
       "    </tr>\n",
       "    <tr>\n",
       "      <th>4</th>\n",
       "      <td>작아서 휴대도 굿굿</td>\n",
       "    </tr>\n",
       "    <tr>\n",
       "      <th>...</th>\n",
       "      <td>...</td>\n",
       "    </tr>\n",
       "    <tr>\n",
       "      <th>7780</th>\n",
       "      <td>가볍고 휴대하기 좋아요</td>\n",
       "    </tr>\n",
       "    <tr>\n",
       "      <th>7781</th>\n",
       "      <td>C 타입 충전이 없어서 구매를 망설이긴 했지만 좀 큰 변압기는 쳐져서 충전이 잘 안...</td>\n",
       "    </tr>\n",
       "    <tr>\n",
       "      <th>7782</th>\n",
       "      <td>요 사이즈가 딱이네요</td>\n",
       "    </tr>\n",
       "    <tr>\n",
       "      <th>7783</th>\n",
       "      <td>켔써요 노란색이 너무 귀엽군요</td>\n",
       "    </tr>\n",
       "    <tr>\n",
       "      <th>7784</th>\n",
       "      <td>한 손에 쏙 들어오고 색이 쨍해서 여행 가서 잃어버릴 일 없을 거 같아요</td>\n",
       "    </tr>\n",
       "  </tbody>\n",
       "</table>\n",
       "<p>7785 rows × 1 columns</p>\n",
       "</div>"
      ],
      "text/plain": [
       "                            add_rule_based_split_review\n",
       "0                              금액 차이 얼마 안 나는데 기능은 더 좋아요\n",
       "1                            콤팩트한 디자인과 실용성에 높은 점수 주었습니다\n",
       "2                                     전면 스크래치가 많아서 아쉽네요\n",
       "3                              말 그대로 멀티 어댑터에요 해외여행 필수 탬\n",
       "4                                            작아서 휴대도 굿굿\n",
       "...                                                 ...\n",
       "7780                                       가볍고 휴대하기 좋아요\n",
       "7781  C 타입 충전이 없어서 구매를 망설이긴 했지만 좀 큰 변압기는 쳐져서 충전이 잘 안...\n",
       "7782                                        요 사이즈가 딱이네요\n",
       "7783                                   켔써요 노란색이 너무 귀엽군요\n",
       "7784           한 손에 쏙 들어오고 색이 쨍해서 여행 가서 잃어버릴 일 없을 거 같아요\n",
       "\n",
       "[7785 rows x 1 columns]"
      ]
     },
     "execution_count": 7,
     "metadata": {},
     "output_type": "execute_result"
    }
   ],
   "source": [
    "product = pd.read_csv(\"C:/Users/shopperhouse/Code/GEN_Ailee\\product.csv\", index_col = 0)\n",
    "product.reset_index(drop = True)"
   ]
  },
  {
   "cell_type": "code",
   "execution_count": 8,
   "metadata": {},
   "outputs": [],
   "source": [
    "def upper_text(text):\n",
    "    text = text.upper()\n",
    "    return text"
   ]
  },
  {
   "cell_type": "code",
   "execution_count": 9,
   "metadata": {},
   "outputs": [],
   "source": [
    "product['add_rule_based_split_review'] = product['add_rule_based_split_review'].apply(upper_text)"
   ]
  },
  {
   "cell_type": "code",
   "execution_count": 10,
   "metadata": {},
   "outputs": [],
   "source": [
    "def replace_text(text):\n",
    "  text = str(text)\n",
    "  text = text.replace('ㅎ','')\n",
    "  text = text.replace('ㅋ','')\n",
    "  text = text.replace('루♡','')\n",
    "  text = text.replace('♡','')\n",
    "  text = text.replace('굳','굿')\n",
    "  text = text.replace('ㅜ','')\n",
    "  text = text.replace('욥','요')\n",
    "  text = text.replace('ㅅ','')\n",
    "  text = text.replace('오ㅡ','')\n",
    "  text = text.replace('ㅡ','')\n",
    "  text = text.replace('굿입니다','굿')\n",
    "  text = text.replace('아이디어템','아이디어 탬')\n",
    "  text = text.replace(':D','')\n",
    "  text = text.replace('핳핳','')\n",
    "  text = text.replace('효오','')\n",
    "  text = text.replace('☆','')\n",
    "  text = text.replace('ᄒ','')\n",
    "  text = text.replace('goood','굿')\n",
    "  text = text.replace('굿국국숙','굿굿굿')\n",
    "  text = text.replace('USC','USB') \n",
    "  text = text.replace('A S','AS')\n",
    "  text = text.replace('ᄆ','')\n",
    "  text = text.replace('ᅳᄋ ᄋ','')\n",
    "  text = text.replace('배슝','배송')\n",
    "  text = text.replace('ᅲ','')\n",
    "  text = text.replace(' ♥','')\n",
    "  text = text.replace('ᄏ','')\n",
    "  text = text.replace('강 추','강추')\n",
    "  text = text.replace('★','')\n",
    "  text = text.replace('■','')\n",
    "  text = text.replace('C 타입','C타입')\n",
    "  text = text.replace('씨타입','C타입')\n",
    "  text = text.replace('A 타입','A타입')\n",
    "  text = text.replace('에이타입','A타입')\n",
    "  text = text.replace('PD 충전','PD충전')\n",
    "  text = text.replace('급 속','급속')\n",
    "  text = text.replace('포드','포트')\n",
    "  text = text.replace('포드만','포트')\n",
    "  text = text.replace('포드리','포트')\n",
    "  text = text.replace('핸폰','핸드폰')\n",
    "  # 1개짜리는 제외\n",
    "  return text"
   ]
  },
  {
   "cell_type": "code",
   "execution_count": 11,
   "metadata": {},
   "outputs": [],
   "source": [
    "product['add_rule_based_split_review'] = product['add_rule_based_split_review'].apply(replace_text)"
   ]
  },
  {
   "cell_type": "code",
   "execution_count": 12,
   "metadata": {},
   "outputs": [],
   "source": [
    "# def clean_text(text):\n",
    "#     if isinstance(text, str):\n",
    "#         return re.sub(r'[-=+,#/\\?:^$.@*\"※~&%ㆍ!』\\\\‘·|\\(\\)\\[\\]\\<\\>`\\'…\\\"\\“’]', '', text)\n",
    "#     else:\n",
    "#         return \"\""
   ]
  },
  {
   "cell_type": "code",
   "execution_count": 13,
   "metadata": {},
   "outputs": [],
   "source": [
    "# product['add_rule_based_split_review'] = product['add_rule_based_split_review'].apply(clean_text)"
   ]
  },
  {
   "cell_type": "code",
   "execution_count": 14,
   "metadata": {},
   "outputs": [],
   "source": [
    "def preprocess_reviews(reviews, stopwords_path, additional_stopwords=[]):\n",
    "    # 불용어 파일 로드\n",
    "    with open(stopwords_path, encoding='utf-8') as file:\n",
    "        stopwords = file.read().splitlines()\n",
    "    \n",
    "    # 추가 불용어 합치기\n",
    "    stopwords.extend(additional_stopwords)\n",
    "\n",
    "    # 리뷰 전처리\n",
    "    clean_sent = []\n",
    "    for review in reviews:\n",
    "        clean = re.sub(r'[-=+,#/\\?:^$.@*\"※~&%ㆍ!』\\\\‘·|\\(\\)\\[\\]\\<\\>`\\'…\\\"\\“’]', '', review)\n",
    "        clean = clean.replace('\\n', '').replace('\\r', '')  # 줄바꿈 문자 제거\n",
    "        clean_sent.append(clean)\n",
    "\n",
    "    m = Mecab(dicpath = 'C:/mecab/mecab-ko-dic')\n",
    "    \n",
    "    word_list = []\n",
    "    for sentences in clean_sent:\n",
    "        # 정규화\n",
    "        # sentences = m.normalize(sentences)\n",
    "        # 토큰화\n",
    "        # tokens = sentences.split()\n",
    "        tokens = m.nouns(sentences)\n",
    "        # tokens = okt.nouns(sentences)\n",
    "        # 불용어 제거\n",
    "        tokens = [token for token in tokens if token not in stopwords]\n",
    "        # tokens = [a for a in s len(a) > 1] # 한글자 이상 단어 제거\n",
    "        word_list.append(tokens)\n",
    "    \n",
    "    return word_list\n"
   ]
  },
  {
   "cell_type": "code",
   "execution_count": 15,
   "metadata": {},
   "outputs": [],
   "source": [
    "# import gensim\n",
    "# import matplotlib.pyplot as plt\n",
    "# from gensim import corpora, models\n",
    "# from gensim.models import CoherenceModel\n",
    "# from pprint import pprint\n",
    "# import pyLDAvis\n",
    "# import pyLDAvis.gensim_models as gensimvis\n",
    "\n",
    "# def compute_coherence_values(dictionary, corpus, texts, limit, start=2, step=3):\n",
    "#     coherence_values = []\n",
    "#     model_list = []\n",
    "    \n",
    "#     for num_topics in range(start, limit, step):\n",
    "#         model = gensim.models.LdaMulticore(corpus=corpus, num_topics=num_topics, id2word=dictionary, passes=2, workers=4)\n",
    "#         model_list.append(model)\n",
    "#         coherencemodel = CoherenceModel(model=model, texts=texts, dictionary=dictionary, coherence='c_v')\n",
    "#         coherence_values.append(coherencemodel.get_coherence())\n",
    "    \n",
    "#     return model_list, coherence_values\n",
    "\n",
    "# def lda_modeling(reviews, stopwords_path, additional_stopwords=[], limit=10, start=2, step=1):\n",
    "#     preprocessed_reviews = preprocess_reviews(reviews, stopwords_path, additional_stopwords)\n",
    "\n",
    "#     id2word = corpora.Dictionary(preprocessed_reviews)\n",
    "#     id2word.filter_extremes(no_below=10) # 조절\n",
    "#     corpus = [id2word.doc2bow(text) for text in preprocessed_reviews]\n",
    "\n",
    "#     tf_idf = models.TfidfModel(corpus)\n",
    "#     corpus_tfidf = tf_idf[corpus]\n",
    "\n",
    "#     model_list, coherence_values = compute_coherence_values(dictionary=id2word, corpus=corpus_tfidf, texts=preprocessed_reviews, limit=limit, start=start, step=step)\n",
    "\n",
    "#     x = range(start, limit, step)\n",
    "#     plt.plot(x, coherence_values)\n",
    "#     plt.xlabel('Num Topics')\n",
    "#     plt.ylabel('Coherence score')\n",
    "#     plt.legend(('coherence_values'), loc='best')\n",
    "#     plt.show()\n",
    "\n",
    "#     # 최적의 모델 선택\n",
    "#     optimal_model = model_list[coherence_values.index(max(coherence_values))]\n",
    "#     model_topics = optimal_model.show_topics(formatted=False)\n",
    "    \n",
    "#     return optimal_model, model_topics\n",
    "\n",
    "# # def visualize_lda_model(optimal_model, corpus_tfidf, id2word):\n",
    "# #     pyLDAvis.enable_notebook()\n",
    "# #     vis_data = gensimvis.prepare(optimal_model, corpus_tfidf, id2word)\n",
    "# #     pyLDAvis.display(vis_data)\n",
    "\n"
   ]
  },
  {
   "cell_type": "code",
   "execution_count": 16,
   "metadata": {},
   "outputs": [],
   "source": [
    "reviews = product['add_rule_based_split_review']  # 리뷰 데이터\n",
    "stopwords_path = \"C:/Users/shopperhouse/Downloads/stopwords-ko.txt\"\n",
    "additional_stopwords = ['의','가','이','은','들','는','과','서', '있다','자다','라고', '이라', '되다', '제', 'ㅎ', 'ㅋㅋ',\n",
    "                        '도','를','으로','자','에','와','한','하다','등' ,'및', '것', '에서', '거', '면', '오다', '용', '요',\n",
    "                        '잘','다','수','개','달', '게요', '전', '변','이거','시', '하다', '자다', '있다', '도', '이', '에', '써다', '때', '너무', '가', '것' ,'에서', '거',\n",
    "                        '서', '수', '요','오다','아직','으로','을','은','아주','안','를','로','되어다', '다','하고',\n",
    "                        '이다','않다','받다','고','는','게','이번','만','전','돼다','까지','용','라','번','달','시','못',\n",
    "                        ]\n",
    "\n",
    "preprocessed_reviews = preprocess_reviews(reviews, stopwords_path, additional_stopwords)\n",
    "# print(preprocessed_reviews)"
   ]
  },
  {
   "cell_type": "code",
   "execution_count": 17,
   "metadata": {},
   "outputs": [],
   "source": [
    "from sklearn.feature_extraction.text import TfidfVectorizer\n",
    "from sklearn.feature_extraction.text import TfidfTransformer\n",
    "from sklearn.preprocessing import normalize\n",
    "\n",
    "from sklearn.cluster import KMeans\n",
    "from soyclustering import SphericalKMeans\n",
    "# from yellowbrick.cluster import KElbowVisualizer"
   ]
  },
  {
   "cell_type": "code",
   "execution_count": 18,
   "metadata": {},
   "outputs": [],
   "source": [
    "# 토큰화된 단어들이 ''으로 각각 구분되지 않고 하나의 문장처럼 연결이 되어야 함\n",
    "word_list = []\n",
    "for words in preprocessed_reviews:\n",
    "    words = ' '.join(words) # join은 모든 문자열을 합치는 함수(공백을 기준으로 단어를 합침)\n",
    "    word_list.append(words)\n",
    "\n",
    "# remove_stopwods는 토큰화된 단어들이 ''으로 분리되어 있음"
   ]
  },
  {
   "cell_type": "code",
   "execution_count": 19,
   "metadata": {},
   "outputs": [],
   "source": [
    "# # spherical k-mean 사용을 위한 vector화 진행\n",
    "\n",
    "# # tfidf_vectorizer = TfidfVectorizer()\n",
    "# # tfidf_matrix_mecab = tfidf_vectorizer.fit_transform(word_list)\n",
    "\n",
    "# tfidf_vectorizer = TfidfVectorizer(analyzer='word', min_df = 3, ngram_range=(1,3)) #min_df = 5, ngram_range=(1,5)\n",
    "# tfidf_matrix_mecab = tfidf_vectorizer.fit_transform(word_list)"
   ]
  },
  {
   "cell_type": "code",
   "execution_count": 20,
   "metadata": {},
   "outputs": [],
   "source": [
    "from sklearn.feature_extraction.text import CountVectorizer\n",
    "\n",
    "count_vec = CountVectorizer(analyzer='word', min_df = 3, ngram_range = (1,3))\n",
    "count_word = count_vec.fit_transform(word_list)"
   ]
  },
  {
   "cell_type": "code",
   "execution_count": 21,
   "metadata": {},
   "outputs": [
    {
     "data": {
      "text/plain": [
       "<7785x1814 sparse matrix of type '<class 'numpy.int64'>'\n",
       "\twith 29522 stored elements in Compressed Sparse Row format>"
      ]
     },
     "execution_count": 21,
     "metadata": {},
     "output_type": "execute_result"
    }
   ],
   "source": [
    "count_word"
   ]
  },
  {
   "cell_type": "code",
   "execution_count": 22,
   "metadata": {},
   "outputs": [],
   "source": [
    "# import pickle\n",
    "\n",
    "# # 희소 행렬을 pickle 파일로 저장\n",
    "# with open('C:/Users/shopperhouse/Code/GEN_Ailee/count_word.pkl', 'wb') as f:\n",
    "#     pickle.dump(count_word, f)"
   ]
  },
  {
   "cell_type": "code",
   "execution_count": 23,
   "metadata": {},
   "outputs": [
    {
     "ename": "NameError",
     "evalue": "name 'np' is not defined",
     "output_type": "error",
     "traceback": [
      "\u001b[1;31m---------------------------------------------------------------------------\u001b[0m",
      "\u001b[1;31mNameError\u001b[0m                                 Traceback (most recent call last)",
      "Cell \u001b[1;32mIn[23], line 18\u001b[0m\n\u001b[0;32m     15\u001b[0m     plt\u001b[38;5;241m.\u001b[39mtitle(\u001b[38;5;124m'\u001b[39m\u001b[38;5;124mElbow Method - number of cluster : \u001b[39m\u001b[38;5;124m'\u001b[39m\u001b[38;5;241m+\u001b[39m\u001b[38;5;28mstr\u001b[39m(Clusters))\n\u001b[0;32m     16\u001b[0m     plt\u001b[38;5;241m.\u001b[39mshow()\n\u001b[1;32m---> 18\u001b[0m \u001b[43melbow\u001b[49m\u001b[43m(\u001b[49m\u001b[43mx\u001b[49m\u001b[43m,\u001b[49m\u001b[43m \u001b[49m\u001b[38;5;241;43m15\u001b[39;49m\u001b[43m)\u001b[49m\n",
      "Cell \u001b[1;32mIn[23], line 13\u001b[0m, in \u001b[0;36melbow\u001b[1;34m(normalizedData, Clusters)\u001b[0m\n\u001b[0;32m     11\u001b[0m plt\u001b[38;5;241m.\u001b[39mplot(\u001b[38;5;28mrange\u001b[39m(\u001b[38;5;241m1\u001b[39m,Clusters), sse, marker\u001b[38;5;241m=\u001b[39m\u001b[38;5;124m'\u001b[39m\u001b[38;5;124mo\u001b[39m\u001b[38;5;124m'\u001b[39m)\n\u001b[0;32m     12\u001b[0m plt\u001b[38;5;241m.\u001b[39mxlabel(\u001b[38;5;124m'\u001b[39m\u001b[38;5;124mnumber of cluster\u001b[39m\u001b[38;5;124m'\u001b[39m)\n\u001b[1;32m---> 13\u001b[0m plt\u001b[38;5;241m.\u001b[39mxticks(\u001b[43mnp\u001b[49m\u001b[38;5;241m.\u001b[39marange(\u001b[38;5;241m0\u001b[39m,Clusters,\u001b[38;5;241m2\u001b[39m))\n\u001b[0;32m     14\u001b[0m plt\u001b[38;5;241m.\u001b[39mylabel(\u001b[38;5;124m'\u001b[39m\u001b[38;5;124mSSE\u001b[39m\u001b[38;5;124m'\u001b[39m)\n\u001b[0;32m     15\u001b[0m plt\u001b[38;5;241m.\u001b[39mtitle(\u001b[38;5;124m'\u001b[39m\u001b[38;5;124mElbow Method - number of cluster : \u001b[39m\u001b[38;5;124m'\u001b[39m\u001b[38;5;241m+\u001b[39m\u001b[38;5;28mstr\u001b[39m(Clusters))\n",
      "\u001b[1;31mNameError\u001b[0m: name 'np' is not defined"
     ]
    },
    {
     "data": {
      "image/png": "[encoded data removed]",
      "text/plain": [
       "<Figure size 700x600 with 1 Axes>"
      ]
     },
     "metadata": {},
     "output_type": "display_data"
    }
   ],
   "source": [
    "x = normalize(count_word)\n",
    "# L2 정규화로 vector의 합을 정규화해서 centroid를 unit vector화\n",
    "\n",
    "def elbow(normalizedData, Clusters):\n",
    "    sse = []\n",
    "    for i in range(1,Clusters):\n",
    "        spherical_kmeans = SphericalKMeans(n_clusters=i, init='k-means++', random_state=0) \n",
    "        spherical_kmeans.fit(normalizedData)\n",
    "        sse.append(spherical_kmeans.inertia_)\n",
    "    plt.figure(figsize=(7,6))\n",
    "    plt.plot(range(1,Clusters), sse, marker='o')\n",
    "    plt.xlabel('number of cluster')\n",
    "    plt.xticks(np.arange(0,Clusters,2))\n",
    "    plt.ylabel('SSE')\n",
    "    plt.title('Elbow Method - number of cluster : '+str(Clusters))\n",
    "    plt.show()\n",
    "    \n",
    "elbow(x, 15)"
   ]
  },
  {
   "cell_type": "code",
   "execution_count": 33,
   "metadata": {},
   "outputs": [
    {
     "name": "stdout",
     "output_type": "stream",
     "text": [
      "initialization_time=0.007813 sec, sparsity=0.00239\n",
      "n_iter=1, changed=712, inertia=7387.858, iter_time=0.060 sec, sparsity=0.456\n",
      "n_iter=2, changed=573, inertia=6178.242, iter_time=0.041 sec, sparsity=0.506\n",
      "n_iter=3, changed=571, inertia=6007.353, iter_time=0.031 sec, sparsity=0.559\n",
      "n_iter=4, changed=194, inertia=5987.977, iter_time=0.037 sec, sparsity=0.568\n",
      "n_iter=5, changed=77, inertia=5986.024, iter_time=0.042 sec, sparsity=0.569\n",
      "n_iter=6, changed=49, inertia=5985.175, iter_time=0.047 sec, sparsity=0.573\n",
      "n_iter=7, changed=84, inertia=5984.637, iter_time=0.055 sec, sparsity=0.574\n",
      "n_iter=8, changed=124, inertia=5979.238, iter_time=0.050 sec, sparsity=0.577\n",
      "n_iter=9, changed=90, inertia=5974.972, iter_time=0.024 sec, sparsity=0.578\n",
      "n_iter=10, changed=103, inertia=5973.605, iter_time=0.028 sec, sparsity=0.581\n"
     ]
    }
   ],
   "source": [
    "## SphericalKMeans 모델 설정\n",
    "spherical_kmeans = SphericalKMeans(\n",
    "    n_clusters=3,\n",
    "    max_iter=10,\n",
    "    verbose=1,\n",
    "    init='similar_cut',\n",
    "    # minimum_df_factor=0.05,\n",
    "    # sparsity='minimum_df'\n",
    ")\n",
    "\n",
    "# 클러스터링 수행 및 라벨 얻기\n",
    "x = normalize(count_word)\n",
    "models = spherical_kmeans.fit(x)\n",
    "centers = spherical_kmeans.cluster_centers_"
   ]
  },
  {
   "cell_type": "code",
   "execution_count": 34,
   "metadata": {},
   "outputs": [
    {
     "data": {
      "text/plain": [
       "0.04401501810240692"
      ]
     },
     "execution_count": 34,
     "metadata": {},
     "output_type": "execute_result"
    }
   ],
   "source": [
    "from sklearn.metrics import silhouette_score\n",
    "\n",
    "labels = models.labels_\n",
    "silhouette_score = silhouette_score(x, labels, metric='cosine')\n",
    "silhouette_score"
   ]
  },
  {
   "cell_type": "code",
   "execution_count": 35,
   "metadata": {},
   "outputs": [],
   "source": [
    "## spherical k-means 키워드\n",
    "\n",
    "from soyclustering import proportion_keywords\n",
    "\n",
    "vocabs = [vocab for vocab, idx in sorted(count_vec .vocabulary_.items(), key=lambda count_word:count_word[1])]\n",
    "centers = spherical_kmeans.cluster_centers_\n",
    "\n",
    "keywords = proportion_keywords(centers, labels=labels, index2word=vocabs, topk=30, candidates_topk=100)\n"
   ]
  },
  {
   "cell_type": "code",
   "execution_count": 38,
   "metadata": {},
   "outputs": [
    {
     "data": {
      "text/plain": [
       "[[('충전 가능', 1.0),\n",
       "  ('사용 충전', 1.0),\n",
       "  ('배터리', 0.9802459147841979),\n",
       "  ('보조', 0.9771840354473533),\n",
       "  ('보조 배터리', 0.9758907836059052),\n",
       "  ('케이스 여행', 0.9741110463744092),\n",
       "  ('배터리 충전', 0.964397297315225),\n",
       "  ('워치', 0.9635153490654319),\n",
       "  ('기기 충전', 0.9559108995574236),\n",
       "  ('고속 충전', 0.9531981662388654),\n",
       "  ('가방', 0.9491851881527023),\n",
       "  ('충전', 0.9445791105386091),\n",
       "  ('충전 속도', 0.9328826575378871),\n",
       "  ('보관 케이스', 0.9294655662679466),\n",
       "  ('핸드폰', 0.9266945458062602),\n",
       "  ('충전 포트', 0.9181226608757801),\n",
       "  ('케이스 보관', 0.9162405062290565),\n",
       "  ('고속', 0.9043146703905741),\n",
       "  ('휴대폰', 0.9042495343133565),\n",
       "  ('케이스', 0.9000582821334633),\n",
       "  ('보관', 0.8997480549913617),\n",
       "  ('다양', 0.88176841328263),\n",
       "  ('사이즈', 0.8701459739803827),\n",
       "  ('초고속 충전', 0.8671302673032625),\n",
       "  ('덕분', 0.8669103434325997),\n",
       "  ('연결', 0.8658815703403959),\n",
       "  ('동시 충전', 0.863866404655525),\n",
       "  ('부분', 0.84878281857983),\n",
       "  ('속도', 0.8432828300132611),\n",
       "  ('코드', 0.8425170755076765)],\n",
       " [('디자인 고급', 1.0),\n",
       "  ('디자인 기능', 1.0),\n",
       "  ('디자인 사용', 1.0),\n",
       "  ('배송 디자인', 1.0),\n",
       "  ('디자인 실용', 1.0),\n",
       "  ('디자인 성능', 1.0),\n",
       "  ('배송 품질', 1.0),\n",
       "  ('디자인 파우', 1.0),\n",
       "  ('디자인 여행', 1.0),\n",
       "  ('콤팩트 디자인', 1.0),\n",
       "  ('디자인 포트', 1.0),\n",
       "  ('품질 만족', 1.0),\n",
       "  ('색상 디자인', 1.0),\n",
       "  ('제품 디자인', 1.0),\n",
       "  ('디자인 심플', 1.0),\n",
       "  ('디자인 배송', 1.0),\n",
       "  ('디자인 우치', 1.0),\n",
       "  ('배송 성능', 1.0),\n",
       "  ('디자인 타입', 1.0),\n",
       "  ('디자인 휴대', 1.0),\n",
       "  ('구성 디자인', 1.0),\n",
       "  ('디자인 크기', 1.0),\n",
       "  ('디자인 견고', 1.0),\n",
       "  ('가격 디자인', 1.0),\n",
       "  ('디자인 내구', 1.0),\n",
       "  ('어댑터 디자인', 1.0),\n",
       "  ('디자인', 0.9988508078677674),\n",
       "  ('디자인 케이스', 0.997342338351667),\n",
       "  ('사용 디자인', 0.9971614229861382),\n",
       "  ('디자인 마음', 0.9966681489565785)],\n",
       " [('제품 구매', 1.0),\n",
       "  ('후회', 1.0),\n",
       "  ('해외 유용', 1.0),\n",
       "  ('해외 출장', 0.9938008213926882),\n",
       "  ('필요 구매', 0.9826358520141493),\n",
       "  ('구매', 0.9806851887228546),\n",
       "  ('지인', 0.9778703516722481),\n",
       "  ('추가 구매', 0.9750639726206783),\n",
       "  ('어댑터 구매', 0.9678026684834009),\n",
       "  ('노랑', 0.9648622377677117),\n",
       "  ('친절', 0.9618114358452079),\n",
       "  ('제품', 0.9600428655327965),\n",
       "  ('다이소', 0.9590385978597505),\n",
       "  ('출장', 0.9493903148826901),\n",
       "  ('퀄리티', 0.9462971210983022),\n",
       "  ('여행 구매', 0.945394468736797),\n",
       "  ('해외', 0.9339881080700956),\n",
       "  ('상품', 0.9313262311532012),\n",
       "  ('비교', 0.9262164331970112),\n",
       "  ('차이', 0.9256645588394882),\n",
       "  ('이전', 0.9247805002970053),\n",
       "  ('고장', 0.9225399986834308),\n",
       "  ('불량', 0.9195812129532575),\n",
       "  ('퓨즈', 0.9180383064090326),\n",
       "  ('흰색', 0.9158156221741612),\n",
       "  ('선물', 0.9143880700307555),\n",
       "  ('고민', 0.9028741876941715),\n",
       "  ('필요', 0.9016191016966685),\n",
       "  ('어댑터 필요', 0.900525465612666),\n",
       "  ('검색', 0.8989163076513494)]]"
      ]
     },
     "execution_count": 38,
     "metadata": {},
     "output_type": "execute_result"
    }
   ],
   "source": [
    "keywords"
   ]
  },
  {
   "cell_type": "code",
   "execution_count": 45,
   "metadata": {},
   "outputs": [
    {
     "name": "stdout",
     "output_type": "stream",
     "text": [
      "cluster#0 : 충전 가능 사용 충전 배터리 보조 보조 배터리 케이스 여행 배터리 충전 워치 기기 충전 고속 충전 가방 충전 충전 속도 보관 케이스 핸드폰 충전 포트 케이스 보관 고속 휴대폰 케이스 보관 다양 사이즈 초고속 충전 덕분 연결 동시 충전 부분 속도 코드\n",
      "cluster#1 : 디자인 고급 디자인 기능 디자인 사용 배송 디자인 디자인 실용 디자인 성능 배송 품질 디자인 파우 디자인 여행 콤팩트 디자인 디자인 포트 품질 만족 색상 디자인 제품 디자인 디자인 심플 디자인 배송 디자인 우치 배송 성능 디자인 타입 디자인 휴대 구성 디자인 디자인 크기 디자인 견고 가격 디자인 디자인 내구 어댑터 디자인 디자인 디자인 케이스 사용 디자인 디자인 마음\n",
      "cluster#2 : 제품 구매 후회 해외 유용 해외 출장 필요 구매 구매 지인 추가 구매 어댑터 구매 노랑 친절 제품 다이소 출장 퀄리티 여행 구매 해외 상품 비교 차이 이전 고장 불량 퓨즈 흰색 선물 고민 필요 어댑터 필요 검색\n"
     ]
    }
   ],
   "source": [
    "cluster_indices = []\n",
    "for cluster_idx, keyword in enumerate(keywords):\n",
    "    keyword = ' '.join([w for w,_ in keyword])\n",
    "    print('cluster#{} : {}'.format(cluster_idx, keyword))\n",
    "    cluster_indices.append(cluster_idx)"
   ]
  },
  {
   "cell_type": "code",
   "execution_count": 40,
   "metadata": {},
   "outputs": [
    {
     "name": "stdout",
     "output_type": "stream",
     "text": [
      "<class 'pandas.core.frame.DataFrame'>\n",
      "Index: 7785 entries, 3 to 17709\n",
      "Data columns (total 2 columns):\n",
      " #   Column            Non-Null Count  Dtype \n",
      "---  ------            --------------  ----- \n",
      " 0   TokenizedTitDesc  7785 non-null   object\n",
      " 1   TitDesc           7785 non-null   object\n",
      "dtypes: object(2)\n",
      "memory usage: 182.5+ KB\n",
      "None\n"
     ]
    },
    {
     "data": {
      "text/html": [
       "<div>\n",
       "<style scoped>\n",
       "    .dataframe tbody tr th:only-of-type {\n",
       "        vertical-align: middle;\n",
       "    }\n",
       "\n",
       "    .dataframe tbody tr th {\n",
       "        vertical-align: top;\n",
       "    }\n",
       "\n",
       "    .dataframe thead th {\n",
       "        text-align: right;\n",
       "    }\n",
       "</style>\n",
       "<table border=\"1\" class=\"dataframe\">\n",
       "  <thead>\n",
       "    <tr style=\"text-align: right;\">\n",
       "      <th></th>\n",
       "      <th>TokenizedTitDesc</th>\n",
       "      <th>TitDesc</th>\n",
       "    </tr>\n",
       "  </thead>\n",
       "  <tbody>\n",
       "    <tr>\n",
       "      <th>3</th>\n",
       "      <td>금액 차이 기능</td>\n",
       "      <td>금액 차이 얼마 안 나는데 기능은 더 좋아요</td>\n",
       "    </tr>\n",
       "    <tr>\n",
       "      <th>4</th>\n",
       "      <td>콤팩트 디자인 실용</td>\n",
       "      <td>콤팩트한 디자인과 실용성에 높은 점수 주었습니다</td>\n",
       "    </tr>\n",
       "    <tr>\n",
       "      <th>8</th>\n",
       "      <td>전면 스크래치</td>\n",
       "      <td>전면 스크래치가 많아서 아쉽네요</td>\n",
       "    </tr>\n",
       "    <tr>\n",
       "      <th>18</th>\n",
       "      <td>말 멀티 어댑터 해외여행 필수 탬</td>\n",
       "      <td>말 그대로 멀티 어댑터에요 해외여행 필수 탬</td>\n",
       "    </tr>\n",
       "    <tr>\n",
       "      <th>22</th>\n",
       "      <td>휴대 굿 굿</td>\n",
       "      <td>작아서 휴대도 굿굿</td>\n",
       "    </tr>\n",
       "  </tbody>\n",
       "</table>\n",
       "</div>"
      ],
      "text/plain": [
       "      TokenizedTitDesc                     TitDesc\n",
       "3             금액 차이 기능    금액 차이 얼마 안 나는데 기능은 더 좋아요\n",
       "4           콤팩트 디자인 실용  콤팩트한 디자인과 실용성에 높은 점수 주었습니다\n",
       "8              전면 스크래치           전면 스크래치가 많아서 아쉽네요\n",
       "18  말 멀티 어댑터 해외여행 필수 탬    말 그대로 멀티 어댑터에요 해외여행 필수 탬\n",
       "22              휴대 굿 굿                  작아서 휴대도 굿굿"
      ]
     },
     "execution_count": 40,
     "metadata": {},
     "output_type": "execute_result"
    }
   ],
   "source": [
    "df_dict = {'TokenizedTitDesc':word_list,  \n",
    "           'TitDesc':product['add_rule_based_split_review']}\n",
    "doc_df = pd.DataFrame(df_dict)\n",
    "\n",
    "topic_df = doc_df \n",
    "print(doc_df.info())\n",
    "doc_df.head()"
   ]
  },
  {
   "cell_type": "code",
   "execution_count": 46,
   "metadata": {},
   "outputs": [
    {
     "data": {
      "text/html": [
       "<div>\n",
       "<style scoped>\n",
       "    .dataframe tbody tr th:only-of-type {\n",
       "        vertical-align: middle;\n",
       "    }\n",
       "\n",
       "    .dataframe tbody tr th {\n",
       "        vertical-align: top;\n",
       "    }\n",
       "\n",
       "    .dataframe thead th {\n",
       "        text-align: right;\n",
       "    }\n",
       "</style>\n",
       "<table border=\"1\" class=\"dataframe\">\n",
       "  <thead>\n",
       "    <tr style=\"text-align: right;\">\n",
       "      <th></th>\n",
       "      <th>TokenizedTitDesc</th>\n",
       "      <th>TitDesc</th>\n",
       "      <th>cluster_label</th>\n",
       "    </tr>\n",
       "  </thead>\n",
       "  <tbody>\n",
       "    <tr>\n",
       "      <th>8947</th>\n",
       "      <td>여행 코드</td>\n",
       "      <td>여행 갈 때 만능인 코드</td>\n",
       "      <td>0</td>\n",
       "    </tr>\n",
       "    <tr>\n",
       "      <th>10818</th>\n",
       "      <td>콤팩트 사용 편리</td>\n",
       "      <td>콤팩트하고 사용이 편리합니다</td>\n",
       "      <td>0</td>\n",
       "    </tr>\n",
       "    <tr>\n",
       "      <th>10815</th>\n",
       "      <td>밑 포트 이용 충전</td>\n",
       "      <td>밑에 포트만 이용해서 충전해도 돼서 아주 편하네요</td>\n",
       "      <td>0</td>\n",
       "    </tr>\n",
       "    <tr>\n",
       "      <th>10812</th>\n",
       "      <td>뉴욕 여행 사용 충전</td>\n",
       "      <td>이번 뉴욕 여행 때 사용했는데 아주 편하고 간단하며 충전이 빠릅니다</td>\n",
       "      <td>0</td>\n",
       "    </tr>\n",
       "    <tr>\n",
       "      <th>10810</th>\n",
       "      <td>사용 케이스 관리</td>\n",
       "      <td>아직 사용 전이지만 케이스도 있어서 관리하기 좋습니다</td>\n",
       "      <td>0</td>\n",
       "    </tr>\n",
       "    <tr>\n",
       "      <th>...</th>\n",
       "      <td>...</td>\n",
       "      <td>...</td>\n",
       "      <td>...</td>\n",
       "    </tr>\n",
       "    <tr>\n",
       "      <th>4384</th>\n",
       "      <td>세계 호환</td>\n",
       "      <td>세계 어딜까도 호환이 되어서 좋네요</td>\n",
       "      <td>2</td>\n",
       "    </tr>\n",
       "    <tr>\n",
       "      <th>12181</th>\n",
       "      <td>다이슨 평</td>\n",
       "      <td>다이슨은 안된다는 평이 많아서 애초에 안 가져갔어요</td>\n",
       "      <td>2</td>\n",
       "    </tr>\n",
       "    <tr>\n",
       "      <th>4370</th>\n",
       "      <td>일본 여행 구매 국내 콘센트 제품 충전</td>\n",
       "      <td>일본 여행 가서 쓰려고 구매했지만 국내에서 11V 짜리 콘센트 가진 제품 충전할 때...</td>\n",
       "      <td>2</td>\n",
       "    </tr>\n",
       "    <tr>\n",
       "      <th>4344</th>\n",
       "      <td>제품 무게 여행 준비</td>\n",
       "      <td>제품은 좀 무게가 있고 여행 가서 쓰려고 준비했어요</td>\n",
       "      <td>2</td>\n",
       "    </tr>\n",
       "    <tr>\n",
       "      <th>3</th>\n",
       "      <td>금액 차이 기능</td>\n",
       "      <td>금액 차이 얼마 안 나는데 기능은 더 좋아요</td>\n",
       "      <td>2</td>\n",
       "    </tr>\n",
       "  </tbody>\n",
       "</table>\n",
       "<p>7785 rows × 3 columns</p>\n",
       "</div>"
      ],
      "text/plain": [
       "            TokenizedTitDesc  \\\n",
       "8947                   여행 코드   \n",
       "10818              콤팩트 사용 편리   \n",
       "10815             밑 포트 이용 충전   \n",
       "10812            뉴욕 여행 사용 충전   \n",
       "10810              사용 케이스 관리   \n",
       "...                      ...   \n",
       "4384                   세계 호환   \n",
       "12181                  다이슨 평   \n",
       "4370   일본 여행 구매 국내 콘센트 제품 충전   \n",
       "4344             제품 무게 여행 준비   \n",
       "3                   금액 차이 기능   \n",
       "\n",
       "                                                 TitDesc  cluster_label  \n",
       "8947                                       여행 갈 때 만능인 코드              0  \n",
       "10818                                    콤팩트하고 사용이 편리합니다              0  \n",
       "10815                        밑에 포트만 이용해서 충전해도 돼서 아주 편하네요              0  \n",
       "10812              이번 뉴욕 여행 때 사용했는데 아주 편하고 간단하며 충전이 빠릅니다              0  \n",
       "10810                      아직 사용 전이지만 케이스도 있어서 관리하기 좋습니다              0  \n",
       "...                                                  ...            ...  \n",
       "4384                                 세계 어딜까도 호환이 되어서 좋네요              2  \n",
       "12181                       다이슨은 안된다는 평이 많아서 애초에 안 가져갔어요              2  \n",
       "4370   일본 여행 가서 쓰려고 구매했지만 국내에서 11V 짜리 콘센트 가진 제품 충전할 때...              2  \n",
       "4344                        제품은 좀 무게가 있고 여행 가서 쓰려고 준비했어요              2  \n",
       "3                               금액 차이 얼마 안 나는데 기능은 더 좋아요              2  \n",
       "\n",
       "[7785 rows x 3 columns]"
      ]
     },
     "execution_count": 46,
     "metadata": {},
     "output_type": "execute_result"
    }
   ],
   "source": [
    "# 군집화한 레이블값들을 document_df 에 추가하기\n",
    "doc_df['cluster_label'] = labels\n",
    "df_clus = doc_df.sort_values(by=['cluster_label'])\n",
    "df_clus\n"
   ]
  },
  {
   "cell_type": "code",
   "execution_count": 49,
   "metadata": {},
   "outputs": [],
   "source": [
    "df_clus.to_csv('C:/Users/shopperhouse/Code/GEN_Ailee/spherical_k_means_entity.csv', encoding='utf-8-sig')"
   ]
  },
  {
   "cell_type": "code",
   "execution_count": 43,
   "metadata": {},
   "outputs": [],
   "source": [
    "def get_cluster_details(cluster_model, cluster_data, feature_names, cluster_num, top_n_features=10):\n",
    "    cluster_details = {}\n",
    "    # 각 클러스터 레이블별 feature들의 center값들 내림차순으로 정렬 후의 인덱스를 반환\n",
    "    center_feature_idx = cluster_model.cluster_centers_.argsort()[:,::-1]\n",
    "\n",
    "    # 개별 클러스터 레이블별로\n",
    "    for cluster_num in range(cluster_num):\n",
    "        # 개별 클러스터별 정보를 담을 empty dict할당\n",
    "        cluster_details[cluster_num] = {}\n",
    "        cluster_details[cluster_num]['cluster'] = cluster_num\n",
    "\n",
    "        # 각 feature별 center값들 정렬한 인덱스 중 상위 10개만 추출\n",
    "        top_ftr_idx = center_feature_idx[cluster_num, : top_n_features]\n",
    "        top_ftr = [feature_names[idx] for idx in top_ftr_idx]\n",
    "        # top_ftr_idx를 활용해서 상위 10개 feature들의 center값들 반환\n",
    "        # 반환하게 되면 array이기 떄문에 리스트로바꾸기\n",
    "        top_ftr_val = cluster_model.cluster_centers_[cluster_num, top_ftr_idx].tolist()\n",
    "\n",
    "        # cluster_details 딕셔너리에다가 개별 군집 정보 넣어주기\n",
    "        cluster_details[cluster_num]['top_features'] = top_ftr\n",
    "        cluster_details[cluster_num]['top_featrues_value'] = top_ftr_val\n",
    "        \n",
    "        # 해당 cluster_num으로 분류된 파일명(문서들) 넣어주기\n",
    "        filenames = doc_df[doc_df['cluster_label']==cluster_num]['TitDesc']\n",
    "        \n",
    "        # filenames가 df으로 반환되기 떄문에 값들만 출력해서 array->list로 변환\n",
    "        filenames = filenames.values.tolist()\n",
    "        cluster_details[cluster_num]['TitDesc'] = filenames\n",
    "\n",
    "    return cluster_details\n",
    "\n",
    "def print_cluster_details(cluster_details):\n",
    "    for cluster_num, cluster_detail in cluster_details.items():\n",
    "        print(f\"#####Cluster Num: {cluster_num}\")\n",
    "        print()\n",
    "        print(\"상위 10개 feature단어들:\\n\", cluster_detail['top_features'])\n",
    "        print()\n",
    "        print(f\"Cluster {cluster_num}으로 분류된 게시물:\\n{cluster_detail['TitDesc'][:10]}\")\n",
    "        print('-'*20)\n"
   ]
  },
  {
   "cell_type": "code",
   "execution_count": 47,
   "metadata": {},
   "outputs": [
    {
     "name": "stdout",
     "output_type": "stream",
     "text": [
      "#####Cluster Num: 0\n",
      "\n",
      "상위 10개 feature단어들:\n",
      " ['충전', '케이스', '사용', '여행', '포트', '파우', '어댑터', '콘센트', '만족', '보관']\n",
      "\n",
      "Cluster 0으로 분류된 게시물:\n",
      "['말 그대로 멀티 어댑터에요 해외여행 필수 탬', '작아서 휴대도 굿굿', 'USB형이 사용하기가 훨씬 편해서 좋았어요', '나라마다 전압이 틀려서 그런지 충전이 잘 되는 나라도 있고 느리게 충전되는 경우도 있고 충전 코드가 헐거워 불편한 호텔도 있어서 파우치 같은 걸로 밑에 받쳐 사용하심 될 거 같아요', 'USB 두 개 충전 시엔 충전 속도가 많  이 느려지지만 주로 잘 때만 사용해서 큰 불편함은 없었네요', ' 호환되는 나라가 많아서 좋아요', '마감이 조금 아쉬우나 싼 맛에 써요', '근데 하나는 바로 망가졌어요', 'USB 단자가 있어 유용할 듯 불량 없이 잘 사용되면 좋겠어요', ' 물건도 꼼꼼하게 잘 왔어요']\n",
      "--------------------\n",
      "#####Cluster Num: 1\n",
      "\n",
      "상위 10개 feature단어들:\n",
      " ['디자인', '배송', '품질', '마음', '사용', '케이스', '만족', '디자인 케이스', '실용', '여행']\n",
      "\n",
      "Cluster 1으로 분류된 게시물:\n",
      "['콤팩트한 디자인과 실용성에 높은 점수 주었습니다', '전면 스크래치가 많아서 아쉽네요', '빠른 배송 좋은 품질 감사합니다', '기대 이상으로 꼼꼼하게 배송 오고 튼튼해 보여요', '품질 좋습니다', '품질이 조금만 더 좋았으면 좋겠네요', '상품 품질 및 마감 등 실물이 더 좋네요', '동일 스펙 멀티 어댑터 중 디자인이 가장 예뻐요', '무엇보다 다 충전기보다 간지가 나서 좋았고 깔끔한 디자인에 묵직함도 한몫했다고 생각합니다', '배송도 금방 왔고 용이해요']\n",
      "--------------------\n",
      "#####Cluster Num: 2\n",
      "\n",
      "상위 10개 feature단어들:\n",
      " ['구매', '제품', '해외', '필요', '어댑터', '여행', '멀티', '사용', '고장', '상품']\n",
      "\n",
      "Cluster 2으로 분류된 게시물:\n",
      "['금액 차이 얼마 안 나는데 기능은 더 좋아요', 'USB형 후기 보고 안될까 봐', '해외 가시는 분은 여유로 1 2개 더 챙겨 가시면 쓰기 편할 것 같아요', '유럽여행으로 많이 구매했는데 유럽은 우리나라 22보다 얇아요', 'USB형 저렴하게 잘 샀습니다', '성능 대비 가격이 무지 착하네요', '필요한 기능만 있어서 좋았어요', '일반형 1 USB형 1개 이렇게 구매하니 둘이 여행하기 딱 좋음', '결과적으로 전혀 못 쓰고 왔어요', '포트 있는 게 더 좋을 거 같아서 구매했어요']\n",
      "--------------------\n"
     ]
    }
   ],
   "source": [
    "feature_names = count_vec.get_feature_names_out()\n",
    "cluster_details = get_cluster_details(cluster_model=spherical_kmeans,\n",
    "                                     cluster_data=df_clus,\n",
    "                                     feature_names=feature_names,\n",
    "                                     cluster_num=3,\n",
    "                                     top_n_features=10)\n",
    "print_cluster_details(cluster_details)"
   ]
  }
 ],
 "metadata": {
  "kernelspec": {
   "display_name": "mecab",
   "language": "python",
   "name": "python3"
  },
  "language_info": {
   "codemirror_mode": {
    "name": "ipython",
    "version": 3
   },
   "file_extension": ".py",
   "mimetype": "text/x-python",
   "name": "python",
   "nbconvert_exporter": "python",
   "pygments_lexer": "ipython3",
   "version": "3.9.19"
  }
 },
 "nbformat": 4,
 "nbformat_minor": 2
}
