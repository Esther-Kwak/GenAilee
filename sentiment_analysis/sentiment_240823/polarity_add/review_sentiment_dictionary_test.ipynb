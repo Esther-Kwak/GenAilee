{
 "cells": [
  {
   "cell_type": "code",
   "execution_count": 1,
   "metadata": {},
   "outputs": [],
   "source": [
    "import pandas as pd\n",
    "import numpy as np\n",
    "import matplotlib.pyplot as plt\n",
    "import seaborn as sns\n",
    "%matplotlib inline\n",
    "import re\n",
    "\n",
    "from konlpy.tag import *"
   ]
  },
  {
   "cell_type": "code",
   "execution_count": 2,
   "metadata": {},
   "outputs": [
    {
     "data": {
      "text/plain": [
       "['A타입', 'PD충전', '것', 'C타입', '개']"
      ]
     },
     "execution_count": 2,
     "metadata": {},
     "output_type": "execute_result"
    }
   ],
   "source": [
    "from konlpy.tag import Mecab\n",
    "\n",
    "m = Mecab(dicpath = 'C:/mecab/mecab-ko-dic')\n",
    "m.nouns('A타입도 좋고, PD충전 되는 것도 좋아요. C타입 여러개 있어서 좋습니다')"
   ]
  },
  {
   "cell_type": "code",
   "execution_count": null,
   "metadata": {},
   "outputs": [],
   "source": [
    "#!pip install jpype1"
   ]
  },
  {
   "cell_type": "code",
   "execution_count": 3,
   "metadata": {},
   "outputs": [
    {
     "data": {
      "text/plain": [
       "['A',\n",
       " '타입',\n",
       " '도',\n",
       " '좋고',\n",
       " ',',\n",
       " 'PD',\n",
       " '충전',\n",
       " '되는',\n",
       " '것',\n",
       " '도',\n",
       " '좋아요',\n",
       " '.',\n",
       " 'C',\n",
       " '타입',\n",
       " '여러',\n",
       " '개',\n",
       " '있어서',\n",
       " '좋습니다']"
      ]
     },
     "execution_count": 3,
     "metadata": {},
     "output_type": "execute_result"
    }
   ],
   "source": [
    "from konlpy.tag import Okt\n",
    "okt = Okt()\n",
    "okt.morphs('A타입도 좋고, PD충전 되는 것도 좋아요. C타입 여러개 있어서 좋습니다')"
   ]
  },
  {
   "cell_type": "code",
   "execution_count": 4,
   "metadata": {},
   "outputs": [
    {
     "data": {
      "text/html": [
       "<div>\n",
       "<style scoped>\n",
       "    .dataframe tbody tr th:only-of-type {\n",
       "        vertical-align: middle;\n",
       "    }\n",
       "\n",
       "    .dataframe tbody tr th {\n",
       "        vertical-align: top;\n",
       "    }\n",
       "\n",
       "    .dataframe thead th {\n",
       "        text-align: right;\n",
       "    }\n",
       "</style>\n",
       "<table border=\"1\" class=\"dataframe\">\n",
       "  <thead>\n",
       "    <tr style=\"text-align: right;\">\n",
       "      <th></th>\n",
       "      <th>brand_name</th>\n",
       "      <th>product_name</th>\n",
       "      <th>write_dt_lst</th>\n",
       "      <th>rating_lst</th>\n",
       "      <th>content_lst</th>\n",
       "      <th>len</th>\n",
       "      <th>repeated_final</th>\n",
       "      <th>review_type</th>\n",
       "      <th>tokenized_sentence</th>\n",
       "      <th>detail_review_type</th>\n",
       "    </tr>\n",
       "  </thead>\n",
       "  <tbody>\n",
       "    <tr>\n",
       "      <th>0</th>\n",
       "      <td>스카이트립</td>\n",
       "      <td>여행 멀티 플러그 해외 여행용 어댑터 일본 멀티탭 콘센트 멀티 어댑터 유럽 중국</td>\n",
       "      <td>20240717</td>\n",
       "      <td>5</td>\n",
       "      <td>여행 가서 잘 썼습니다 유럽용은 안 써도 될 듯 ㅠ</td>\n",
       "      <td>28</td>\n",
       "      <td>0</td>\n",
       "      <td>simple</td>\n",
       "      <td>여행 가서 잘 썼습니다 유럽용은 안 써도 될 듯 ㅠ</td>\n",
       "      <td>service</td>\n",
       "    </tr>\n",
       "    <tr>\n",
       "      <th>1</th>\n",
       "      <td>스카이트립</td>\n",
       "      <td>여행 멀티 플러그 해외 여행용 어댑터 일본 멀티탭 콘센트 멀티 어댑터 유럽 중국</td>\n",
       "      <td>20240716</td>\n",
       "      <td>4</td>\n",
       "      <td>여행에서 사용하려고요 고장 난 거 아니었으면 하네요</td>\n",
       "      <td>28</td>\n",
       "      <td>0</td>\n",
       "      <td>simple</td>\n",
       "      <td>여행에서 사용하려고요 고장 난 거 아니었으면 하네요</td>\n",
       "      <td>service</td>\n",
       "    </tr>\n",
       "    <tr>\n",
       "      <th>3</th>\n",
       "      <td>스카이트립</td>\n",
       "      <td>여행 멀티 플러그 해외 여행용 어댑터 일본 멀티탭 콘센트 멀티 어댑터 유럽 중국</td>\n",
       "      <td>20240716</td>\n",
       "      <td>5</td>\n",
       "      <td>돈 추가해서 구매하는 게 더 좋네요 금액 차이 얼마 안 나는데 기능은 더 좋아요</td>\n",
       "      <td>44</td>\n",
       "      <td>0</td>\n",
       "      <td>general</td>\n",
       "      <td>돈 추가해서 구매하는 게 더 좋네요</td>\n",
       "      <td>service</td>\n",
       "    </tr>\n",
       "  </tbody>\n",
       "</table>\n",
       "</div>"
      ],
      "text/plain": [
       "  brand_name                                  product_name  write_dt_lst  \\\n",
       "0      스카이트립  여행 멀티 플러그 해외 여행용 어댑터 일본 멀티탭 콘센트 멀티 어댑터 유럽 중국      20240717   \n",
       "1      스카이트립  여행 멀티 플러그 해외 여행용 어댑터 일본 멀티탭 콘센트 멀티 어댑터 유럽 중국      20240716   \n",
       "3      스카이트립  여행 멀티 플러그 해외 여행용 어댑터 일본 멀티탭 콘센트 멀티 어댑터 유럽 중국      20240716   \n",
       "\n",
       "   rating_lst                                   content_lst  len  \\\n",
       "0           5                  여행 가서 잘 썼습니다 유럽용은 안 써도 될 듯 ㅠ   28   \n",
       "1           4                  여행에서 사용하려고요 고장 난 거 아니었으면 하네요   28   \n",
       "3           5  돈 추가해서 구매하는 게 더 좋네요 금액 차이 얼마 안 나는데 기능은 더 좋아요   44   \n",
       "\n",
       "   repeated_final review_type            tokenized_sentence detail_review_type  \n",
       "0               0      simple  여행 가서 잘 썼습니다 유럽용은 안 써도 될 듯 ㅠ            service  \n",
       "1               0      simple  여행에서 사용하려고요 고장 난 거 아니었으면 하네요            service  \n",
       "3               0     general           돈 추가해서 구매하는 게 더 좋네요            service  "
      ]
     },
     "execution_count": 4,
     "metadata": {},
     "output_type": "execute_result"
    }
   ],
   "source": [
    "data = pd.read_csv('C:/Users/songy/Desktop/Data/sentiment_data/travel_adaptor_reivew_pp.csv', encoding= 'utf-8-sig', index_col=0)\n",
    "data.head(3)"
   ]
  },
  {
   "cell_type": "code",
   "execution_count": 5,
   "metadata": {},
   "outputs": [
    {
     "data": {
      "text/html": [
       "<div>\n",
       "<style scoped>\n",
       "    .dataframe tbody tr th:only-of-type {\n",
       "        vertical-align: middle;\n",
       "    }\n",
       "\n",
       "    .dataframe tbody tr th {\n",
       "        vertical-align: top;\n",
       "    }\n",
       "\n",
       "    .dataframe thead th {\n",
       "        text-align: right;\n",
       "    }\n",
       "</style>\n",
       "<table border=\"1\" class=\"dataframe\">\n",
       "  <thead>\n",
       "    <tr style=\"text-align: right;\">\n",
       "      <th></th>\n",
       "      <th>brand_name</th>\n",
       "      <th>product_name</th>\n",
       "      <th>write_dt_lst</th>\n",
       "      <th>rating_lst</th>\n",
       "      <th>content_lst</th>\n",
       "      <th>len</th>\n",
       "      <th>repeated_final</th>\n",
       "      <th>review_type</th>\n",
       "      <th>tokenized_sentence</th>\n",
       "      <th>detail_review_type</th>\n",
       "      <th>morphs</th>\n",
       "    </tr>\n",
       "  </thead>\n",
       "  <tbody>\n",
       "    <tr>\n",
       "      <th>0</th>\n",
       "      <td>스카이트립</td>\n",
       "      <td>여행 멀티 플러그 해외 여행용 어댑터 일본 멀티탭 콘센트 멀티 어댑터 유럽 중국</td>\n",
       "      <td>20240717</td>\n",
       "      <td>5</td>\n",
       "      <td>여행 가서 잘 썼습니다 유럽용은 안 써도 될 듯 ㅠ</td>\n",
       "      <td>28</td>\n",
       "      <td>0</td>\n",
       "      <td>simple</td>\n",
       "      <td>여행 가서 잘 썼습니다 유럽용은 안 써도 될 듯 ㅠ</td>\n",
       "      <td>service</td>\n",
       "      <td>[여행, 가서, 잘, 썼습니다, 유럽, 용은, 안, 써도, 될, 듯, ㅠ]</td>\n",
       "    </tr>\n",
       "    <tr>\n",
       "      <th>1</th>\n",
       "      <td>스카이트립</td>\n",
       "      <td>여행 멀티 플러그 해외 여행용 어댑터 일본 멀티탭 콘센트 멀티 어댑터 유럽 중국</td>\n",
       "      <td>20240716</td>\n",
       "      <td>4</td>\n",
       "      <td>여행에서 사용하려고요 고장 난 거 아니었으면 하네요</td>\n",
       "      <td>28</td>\n",
       "      <td>0</td>\n",
       "      <td>simple</td>\n",
       "      <td>여행에서 사용하려고요 고장 난 거 아니었으면 하네요</td>\n",
       "      <td>service</td>\n",
       "      <td>[여행, 에서, 사용, 하려고요, 고장, 난, 거, 아니었으면, 하네요]</td>\n",
       "    </tr>\n",
       "    <tr>\n",
       "      <th>3</th>\n",
       "      <td>스카이트립</td>\n",
       "      <td>여행 멀티 플러그 해외 여행용 어댑터 일본 멀티탭 콘센트 멀티 어댑터 유럽 중국</td>\n",
       "      <td>20240716</td>\n",
       "      <td>5</td>\n",
       "      <td>돈 추가해서 구매하는 게 더 좋네요 금액 차이 얼마 안 나는데 기능은 더 좋아요</td>\n",
       "      <td>44</td>\n",
       "      <td>0</td>\n",
       "      <td>general</td>\n",
       "      <td>돈 추가해서 구매하는 게 더 좋네요</td>\n",
       "      <td>service</td>\n",
       "      <td>[돈, 추가, 해서, 구매, 하는, 게, 더, 좋네요]</td>\n",
       "    </tr>\n",
       "  </tbody>\n",
       "</table>\n",
       "</div>"
      ],
      "text/plain": [
       "  brand_name                                  product_name  write_dt_lst  \\\n",
       "0      스카이트립  여행 멀티 플러그 해외 여행용 어댑터 일본 멀티탭 콘센트 멀티 어댑터 유럽 중국      20240717   \n",
       "1      스카이트립  여행 멀티 플러그 해외 여행용 어댑터 일본 멀티탭 콘센트 멀티 어댑터 유럽 중국      20240716   \n",
       "3      스카이트립  여행 멀티 플러그 해외 여행용 어댑터 일본 멀티탭 콘센트 멀티 어댑터 유럽 중국      20240716   \n",
       "\n",
       "   rating_lst                                   content_lst  len  \\\n",
       "0           5                  여행 가서 잘 썼습니다 유럽용은 안 써도 될 듯 ㅠ   28   \n",
       "1           4                  여행에서 사용하려고요 고장 난 거 아니었으면 하네요   28   \n",
       "3           5  돈 추가해서 구매하는 게 더 좋네요 금액 차이 얼마 안 나는데 기능은 더 좋아요   44   \n",
       "\n",
       "   repeated_final review_type            tokenized_sentence  \\\n",
       "0               0      simple  여행 가서 잘 썼습니다 유럽용은 안 써도 될 듯 ㅠ   \n",
       "1               0      simple  여행에서 사용하려고요 고장 난 거 아니었으면 하네요   \n",
       "3               0     general           돈 추가해서 구매하는 게 더 좋네요   \n",
       "\n",
       "  detail_review_type                                     morphs  \n",
       "0            service  [여행, 가서, 잘, 썼습니다, 유럽, 용은, 안, 써도, 될, 듯, ㅠ]  \n",
       "1            service   [여행, 에서, 사용, 하려고요, 고장, 난, 거, 아니었으면, 하네요]  \n",
       "3            service             [돈, 추가, 해서, 구매, 하는, 게, 더, 좋네요]  "
      ]
     },
     "execution_count": 5,
     "metadata": {},
     "output_type": "execute_result"
    }
   ],
   "source": [
    "#data['morphs'] = data['tokenized_sentence'].apply(lambda x : m.morphs(str(x)))\n",
    "data['morphs'] = data['tokenized_sentence'].apply(lambda x : okt.morphs(str(x)))\n",
    "data.head(3)"
   ]
  },
  {
   "cell_type": "code",
   "execution_count": 6,
   "metadata": {},
   "outputs": [
    {
     "data": {
      "text/html": [
       "<div>\n",
       "<style scoped>\n",
       "    .dataframe tbody tr th:only-of-type {\n",
       "        vertical-align: middle;\n",
       "    }\n",
       "\n",
       "    .dataframe tbody tr th {\n",
       "        vertical-align: top;\n",
       "    }\n",
       "\n",
       "    .dataframe thead th {\n",
       "        text-align: right;\n",
       "    }\n",
       "</style>\n",
       "<table border=\"1\" class=\"dataframe\">\n",
       "  <thead>\n",
       "    <tr style=\"text-align: right;\">\n",
       "      <th></th>\n",
       "      <th>word</th>\n",
       "      <th>word_root</th>\n",
       "      <th>polarity</th>\n",
       "    </tr>\n",
       "  </thead>\n",
       "  <tbody>\n",
       "    <tr>\n",
       "      <th>0</th>\n",
       "      <td>(-;</td>\n",
       "      <td>(</td>\n",
       "      <td>1</td>\n",
       "    </tr>\n",
       "    <tr>\n",
       "      <th>1</th>\n",
       "      <td>(;_;)</td>\n",
       "      <td>(;_;)</td>\n",
       "      <td>-1</td>\n",
       "    </tr>\n",
       "    <tr>\n",
       "      <th>2</th>\n",
       "      <td>(^^)</td>\n",
       "      <td>(^^)</td>\n",
       "      <td>1</td>\n",
       "    </tr>\n",
       "    <tr>\n",
       "      <th>3</th>\n",
       "      <td>(^-^)</td>\n",
       "      <td>(^-^)</td>\n",
       "      <td>1</td>\n",
       "    </tr>\n",
       "    <tr>\n",
       "      <th>4</th>\n",
       "      <td>(^^*</td>\n",
       "      <td>(</td>\n",
       "      <td>1</td>\n",
       "    </tr>\n",
       "    <tr>\n",
       "      <th>...</th>\n",
       "      <td>...</td>\n",
       "      <td>...</td>\n",
       "      <td>...</td>\n",
       "    </tr>\n",
       "    <tr>\n",
       "      <th>14838</th>\n",
       "      <td>반신반의하다</td>\n",
       "      <td>반신반의</td>\n",
       "      <td>0</td>\n",
       "    </tr>\n",
       "    <tr>\n",
       "      <th>14839</th>\n",
       "      <td>신비롭다</td>\n",
       "      <td>신비</td>\n",
       "      <td>1</td>\n",
       "    </tr>\n",
       "    <tr>\n",
       "      <th>14840</th>\n",
       "      <td>아리송하다</td>\n",
       "      <td>아리송</td>\n",
       "      <td>-1</td>\n",
       "    </tr>\n",
       "    <tr>\n",
       "      <th>14841</th>\n",
       "      <td>알쏭하다</td>\n",
       "      <td>알쏭하</td>\n",
       "      <td>-1</td>\n",
       "    </tr>\n",
       "    <tr>\n",
       "      <th>14842</th>\n",
       "      <td>알쏭달쏭하다</td>\n",
       "      <td>알쏭달쏭</td>\n",
       "      <td>-1</td>\n",
       "    </tr>\n",
       "  </tbody>\n",
       "</table>\n",
       "<p>14843 rows × 3 columns</p>\n",
       "</div>"
      ],
      "text/plain": [
       "         word word_root  polarity\n",
       "0         (-;         (         1\n",
       "1       (;_;)     (;_;)        -1\n",
       "2        (^^)      (^^)         1\n",
       "3       (^-^)     (^-^)         1\n",
       "4        (^^*         (         1\n",
       "...       ...       ...       ...\n",
       "14838  반신반의하다      반신반의         0\n",
       "14839    신비롭다        신비         1\n",
       "14840   아리송하다       아리송        -1\n",
       "14841    알쏭하다       알쏭하        -1\n",
       "14842  알쏭달쏭하다      알쏭달쏭        -1\n",
       "\n",
       "[14843 rows x 3 columns]"
      ]
     },
     "execution_count": 6,
     "metadata": {},
     "output_type": "execute_result"
    }
   ],
   "source": [
    "#sentiment_dic = pd.read_json('C:/Users/songy/Desktop/Data/sentiment_data/KNU_dictionary/SentiWord_info.json')\n",
    "#sentiment_dic.to_csv('C:/Users/songy/Desktop/Data/sentiment_data/KNU_dictionary/sentiment_dictionary.csv', encoding='utf-8-sig')\n",
    "sentiment_dic = pd.read_csv('C:/Users/songy/Desktop/Data/sentiment_data/KNU_dictionary/sentiment_dictionary.csv', index_col=0)\n",
    "sentiment_dic"
   ]
  },
  {
   "cell_type": "code",
   "execution_count": 7,
   "metadata": {},
   "outputs": [
    {
     "data": {
      "text/plain": [
       "['여행', '에서', '사용', '하', '려고요', '고장', '난', '거', '아니', '었', '으면', '하', '네요']"
      ]
     },
     "execution_count": 7,
     "metadata": {},
     "output_type": "execute_result"
    }
   ],
   "source": [
    "sample_text = \"여행에서 사용하려고요 고장 난거 아니었으면 하네요\"\n",
    "sample_tokened = m.morphs(sample_text)\n",
    "sample_tokened"
   ]
  },
  {
   "cell_type": "code",
   "execution_count": null,
   "metadata": {},
   "outputs": [],
   "source": [
    "p_v=[]\n",
    "for morph in sample_tokened:\n",
    "    match = sentiment_dic[(sentiment_dic['word']==morph) | (sentiment_dic['word_root']==morph)]\n",
    "    #print(match)\n",
    "    if not match.empty:\n",
    "        p_v.append(match['word'].values[0])\n",
    "        #print(p_v)\n",
    "\n",
    "print(p_v)"
   ]
  },
  {
   "cell_type": "code",
   "execution_count": null,
   "metadata": {},
   "outputs": [],
   "source": [
    "p_v=[]\n",
    "for morph in sample_tokened:\n",
    "    match = sentiment_dic[(sentiment_dic['word_root']==morph)]\n",
    "    #print(match)\n",
    "    if not match.empty:\n",
    "        p_v.append(match['word_root'].values[0])\n",
    "        #print(p_v)\n",
    "\n",
    "print(p_v)"
   ]
  },
  {
   "cell_type": "code",
   "execution_count": null,
   "metadata": {},
   "outputs": [],
   "source": [
    "p_v=[]\n",
    "for morph in sample_tokened:\n",
    "    match = sentiment_dic[(sentiment_dic['word']==morph)]\n",
    "    #print(match)\n",
    "    if not match.empty:\n",
    "        p_v.append(match['word'].values[0])\n",
    "        #print(p_v)\n",
    "\n",
    "print(p_v)"
   ]
  },
  {
   "cell_type": "code",
   "execution_count": null,
   "metadata": {},
   "outputs": [],
   "source": [
    "p_v=[]\n",
    "for morph in sample_tokened:\n",
    "    match = sentiment_dic[(sentiment_dic['word']==morph) | (sentiment_dic['word_root']==morph)]\n",
    "    #print(match)\n",
    "    if not match.empty:\n",
    "        if morph in match['word'].values:\n",
    "            p_v.append(morph)\n",
    "        elif morph in match['word_root'].values:\n",
    "            p_v.append(morph)\n",
    "\n",
    "print(p_v)"
   ]
  },
  {
   "cell_type": "code",
   "execution_count": null,
   "metadata": {},
   "outputs": [],
   "source": [
    "# word, word_root 다 반영하는 코드 (적합x 사료됨)\n",
    "\"\"\"\n",
    "def m_sentiment_score(morphs):\n",
    "    p_v=[]\n",
    "    for morph in morphs:\n",
    "        match = sentiment_dic[(sentiment_dic['word']==morph) | (sentiment_dic['word_root']==morph)]\n",
    "        #print(match)\n",
    "        if not match.empty:\n",
    "            #p_v.append(match['polarity'].values[0])\n",
    "            if morph in match['word'].values:\n",
    "                p_v.append(match['polarity'].values[0])\n",
    "            elif morph in match['word_root'].values:\n",
    "                p_v.append(match['polarity'].values[0])\n",
    "    return sum(p_v)\n",
    "\n",
    "def return_morph_in_dict(morphs):\n",
    "    p_m = []\n",
    "    for morph in morphs:\n",
    "        match = sentiment_dic[(sentiment_dic['word']==morph) | (sentiment_dic['word_root']==morph)]\n",
    "        if not match.empty:\n",
    "            #p_m.append(match['word'].values[0])\n",
    "            if morph in match['word'].values:\n",
    "                p_m.append(morph)\n",
    "            elif morph in match['word_root'].values:\n",
    "                p_m.append(morph)\n",
    "    return p_m\n",
    "\"\"\""
   ]
  },
  {
   "cell_type": "code",
   "execution_count": 8,
   "metadata": {},
   "outputs": [],
   "source": [
    "# word만 반영되는 코드 \n",
    "\n",
    "def m_sentiment_score(morphs):\n",
    "    p_v=[]\n",
    "    for morph in morphs:\n",
    "        match = sentiment_dic[(sentiment_dic['word']==morph)]\n",
    "        if not match.empty:\n",
    "            p_v.append(match['polarity'].values[0])\n",
    "    return sum(p_v)\n",
    "\n",
    "def return_morph_in_dict(morphs):\n",
    "    p_m = []\n",
    "    for morph in morphs:\n",
    "        match = sentiment_dic[(sentiment_dic['word']==morph)]\n",
    "        if not match.empty:\n",
    "            p_m.append(match['word'].values[0])\n",
    "    return p_m"
   ]
  },
  {
   "cell_type": "code",
   "execution_count": 9,
   "metadata": {},
   "outputs": [
    {
     "data": {
      "text/html": [
       "<div>\n",
       "<style scoped>\n",
       "    .dataframe tbody tr th:only-of-type {\n",
       "        vertical-align: middle;\n",
       "    }\n",
       "\n",
       "    .dataframe tbody tr th {\n",
       "        vertical-align: top;\n",
       "    }\n",
       "\n",
       "    .dataframe thead th {\n",
       "        text-align: right;\n",
       "    }\n",
       "</style>\n",
       "<table border=\"1\" class=\"dataframe\">\n",
       "  <thead>\n",
       "    <tr style=\"text-align: right;\">\n",
       "      <th></th>\n",
       "      <th>brand_name</th>\n",
       "      <th>product_name</th>\n",
       "      <th>write_dt_lst</th>\n",
       "      <th>rating_lst</th>\n",
       "      <th>content_lst</th>\n",
       "      <th>len</th>\n",
       "      <th>repeated_final</th>\n",
       "      <th>review_type</th>\n",
       "      <th>tokenized_sentence</th>\n",
       "      <th>detail_review_type</th>\n",
       "      <th>morphs</th>\n",
       "    </tr>\n",
       "  </thead>\n",
       "  <tbody>\n",
       "    <tr>\n",
       "      <th>0</th>\n",
       "      <td>스카이트립</td>\n",
       "      <td>여행 멀티 플러그 해외 여행용 어댑터 일본 멀티탭 콘센트 멀티 어댑터 유럽 중국</td>\n",
       "      <td>20240717</td>\n",
       "      <td>5</td>\n",
       "      <td>여행 가서 잘 썼습니다 유럽용은 안 써도 될 듯 ㅠ</td>\n",
       "      <td>28</td>\n",
       "      <td>0</td>\n",
       "      <td>simple</td>\n",
       "      <td>여행 가서 잘 썼습니다 유럽용은 안 써도 될 듯 ㅠ</td>\n",
       "      <td>service</td>\n",
       "      <td>[여행, 가서, 잘, 썼습니다, 유럽, 용은, 안, 써도, 될, 듯, ㅠ]</td>\n",
       "    </tr>\n",
       "    <tr>\n",
       "      <th>1</th>\n",
       "      <td>스카이트립</td>\n",
       "      <td>여행 멀티 플러그 해외 여행용 어댑터 일본 멀티탭 콘센트 멀티 어댑터 유럽 중국</td>\n",
       "      <td>20240716</td>\n",
       "      <td>4</td>\n",
       "      <td>여행에서 사용하려고요 고장 난 거 아니었으면 하네요</td>\n",
       "      <td>28</td>\n",
       "      <td>0</td>\n",
       "      <td>simple</td>\n",
       "      <td>여행에서 사용하려고요 고장 난 거 아니었으면 하네요</td>\n",
       "      <td>service</td>\n",
       "      <td>[여행, 에서, 사용, 하려고요, 고장, 난, 거, 아니었으면, 하네요]</td>\n",
       "    </tr>\n",
       "    <tr>\n",
       "      <th>3</th>\n",
       "      <td>스카이트립</td>\n",
       "      <td>여행 멀티 플러그 해외 여행용 어댑터 일본 멀티탭 콘센트 멀티 어댑터 유럽 중국</td>\n",
       "      <td>20240716</td>\n",
       "      <td>5</td>\n",
       "      <td>돈 추가해서 구매하는 게 더 좋네요 금액 차이 얼마 안 나는데 기능은 더 좋아요</td>\n",
       "      <td>44</td>\n",
       "      <td>0</td>\n",
       "      <td>general</td>\n",
       "      <td>돈 추가해서 구매하는 게 더 좋네요</td>\n",
       "      <td>service</td>\n",
       "      <td>[돈, 추가, 해서, 구매, 하는, 게, 더, 좋네요]</td>\n",
       "    </tr>\n",
       "  </tbody>\n",
       "</table>\n",
       "</div>"
      ],
      "text/plain": [
       "  brand_name                                  product_name  write_dt_lst  \\\n",
       "0      스카이트립  여행 멀티 플러그 해외 여행용 어댑터 일본 멀티탭 콘센트 멀티 어댑터 유럽 중국      20240717   \n",
       "1      스카이트립  여행 멀티 플러그 해외 여행용 어댑터 일본 멀티탭 콘센트 멀티 어댑터 유럽 중국      20240716   \n",
       "3      스카이트립  여행 멀티 플러그 해외 여행용 어댑터 일본 멀티탭 콘센트 멀티 어댑터 유럽 중국      20240716   \n",
       "\n",
       "   rating_lst                                   content_lst  len  \\\n",
       "0           5                  여행 가서 잘 썼습니다 유럽용은 안 써도 될 듯 ㅠ   28   \n",
       "1           4                  여행에서 사용하려고요 고장 난 거 아니었으면 하네요   28   \n",
       "3           5  돈 추가해서 구매하는 게 더 좋네요 금액 차이 얼마 안 나는데 기능은 더 좋아요   44   \n",
       "\n",
       "   repeated_final review_type            tokenized_sentence  \\\n",
       "0               0      simple  여행 가서 잘 썼습니다 유럽용은 안 써도 될 듯 ㅠ   \n",
       "1               0      simple  여행에서 사용하려고요 고장 난 거 아니었으면 하네요   \n",
       "3               0     general           돈 추가해서 구매하는 게 더 좋네요   \n",
       "\n",
       "  detail_review_type                                     morphs  \n",
       "0            service  [여행, 가서, 잘, 썼습니다, 유럽, 용은, 안, 써도, 될, 듯, ㅠ]  \n",
       "1            service   [여행, 에서, 사용, 하려고요, 고장, 난, 거, 아니었으면, 하네요]  \n",
       "3            service             [돈, 추가, 해서, 구매, 하는, 게, 더, 좋네요]  "
      ]
     },
     "execution_count": 9,
     "metadata": {},
     "output_type": "execute_result"
    }
   ],
   "source": [
    "data.head(3)"
   ]
  },
  {
   "cell_type": "code",
   "execution_count": 10,
   "metadata": {},
   "outputs": [
    {
     "data": {
      "text/html": [
       "<div>\n",
       "<style scoped>\n",
       "    .dataframe tbody tr th:only-of-type {\n",
       "        vertical-align: middle;\n",
       "    }\n",
       "\n",
       "    .dataframe tbody tr th {\n",
       "        vertical-align: top;\n",
       "    }\n",
       "\n",
       "    .dataframe thead th {\n",
       "        text-align: right;\n",
       "    }\n",
       "</style>\n",
       "<table border=\"1\" class=\"dataframe\">\n",
       "  <thead>\n",
       "    <tr style=\"text-align: right;\">\n",
       "      <th></th>\n",
       "      <th>brand_name</th>\n",
       "      <th>product_name</th>\n",
       "      <th>write_dt_lst</th>\n",
       "      <th>rating_lst</th>\n",
       "      <th>content_lst</th>\n",
       "      <th>len</th>\n",
       "      <th>repeated_final</th>\n",
       "      <th>review_type</th>\n",
       "      <th>tokenized_sentence</th>\n",
       "      <th>detail_review_type</th>\n",
       "      <th>morphs</th>\n",
       "      <th>morphs_in_dic</th>\n",
       "      <th>polarity_total</th>\n",
       "    </tr>\n",
       "  </thead>\n",
       "  <tbody>\n",
       "    <tr>\n",
       "      <th>0</th>\n",
       "      <td>스카이트립</td>\n",
       "      <td>여행 멀티 플러그 해외 여행용 어댑터 일본 멀티탭 콘센트 멀티 어댑터 유럽 중국</td>\n",
       "      <td>20240717</td>\n",
       "      <td>5</td>\n",
       "      <td>여행 가서 잘 썼습니다 유럽용은 안 써도 될 듯 ㅠ</td>\n",
       "      <td>28</td>\n",
       "      <td>0</td>\n",
       "      <td>simple</td>\n",
       "      <td>여행 가서 잘 썼습니다 유럽용은 안 써도 될 듯 ㅠ</td>\n",
       "      <td>service</td>\n",
       "      <td>[여행, 가서, 잘, 썼습니다, 유럽, 용은, 안, 써도, 될, 듯, ㅠ]</td>\n",
       "      <td>[잘, ㅠ]</td>\n",
       "      <td>0</td>\n",
       "    </tr>\n",
       "    <tr>\n",
       "      <th>1</th>\n",
       "      <td>스카이트립</td>\n",
       "      <td>여행 멀티 플러그 해외 여행용 어댑터 일본 멀티탭 콘센트 멀티 어댑터 유럽 중국</td>\n",
       "      <td>20240716</td>\n",
       "      <td>4</td>\n",
       "      <td>여행에서 사용하려고요 고장 난 거 아니었으면 하네요</td>\n",
       "      <td>28</td>\n",
       "      <td>0</td>\n",
       "      <td>simple</td>\n",
       "      <td>여행에서 사용하려고요 고장 난 거 아니었으면 하네요</td>\n",
       "      <td>service</td>\n",
       "      <td>[여행, 에서, 사용, 하려고요, 고장, 난, 거, 아니었으면, 하네요]</td>\n",
       "      <td>[]</td>\n",
       "      <td>0</td>\n",
       "    </tr>\n",
       "    <tr>\n",
       "      <th>3</th>\n",
       "      <td>스카이트립</td>\n",
       "      <td>여행 멀티 플러그 해외 여행용 어댑터 일본 멀티탭 콘센트 멀티 어댑터 유럽 중국</td>\n",
       "      <td>20240716</td>\n",
       "      <td>5</td>\n",
       "      <td>돈 추가해서 구매하는 게 더 좋네요 금액 차이 얼마 안 나는데 기능은 더 좋아요</td>\n",
       "      <td>44</td>\n",
       "      <td>0</td>\n",
       "      <td>general</td>\n",
       "      <td>돈 추가해서 구매하는 게 더 좋네요</td>\n",
       "      <td>service</td>\n",
       "      <td>[돈, 추가, 해서, 구매, 하는, 게, 더, 좋네요]</td>\n",
       "      <td>[]</td>\n",
       "      <td>0</td>\n",
       "    </tr>\n",
       "  </tbody>\n",
       "</table>\n",
       "</div>"
      ],
      "text/plain": [
       "  brand_name                                  product_name  write_dt_lst  \\\n",
       "0      스카이트립  여행 멀티 플러그 해외 여행용 어댑터 일본 멀티탭 콘센트 멀티 어댑터 유럽 중국      20240717   \n",
       "1      스카이트립  여행 멀티 플러그 해외 여행용 어댑터 일본 멀티탭 콘센트 멀티 어댑터 유럽 중국      20240716   \n",
       "3      스카이트립  여행 멀티 플러그 해외 여행용 어댑터 일본 멀티탭 콘센트 멀티 어댑터 유럽 중국      20240716   \n",
       "\n",
       "   rating_lst                                   content_lst  len  \\\n",
       "0           5                  여행 가서 잘 썼습니다 유럽용은 안 써도 될 듯 ㅠ   28   \n",
       "1           4                  여행에서 사용하려고요 고장 난 거 아니었으면 하네요   28   \n",
       "3           5  돈 추가해서 구매하는 게 더 좋네요 금액 차이 얼마 안 나는데 기능은 더 좋아요   44   \n",
       "\n",
       "   repeated_final review_type            tokenized_sentence  \\\n",
       "0               0      simple  여행 가서 잘 썼습니다 유럽용은 안 써도 될 듯 ㅠ   \n",
       "1               0      simple  여행에서 사용하려고요 고장 난 거 아니었으면 하네요   \n",
       "3               0     general           돈 추가해서 구매하는 게 더 좋네요   \n",
       "\n",
       "  detail_review_type                                     morphs morphs_in_dic  \\\n",
       "0            service  [여행, 가서, 잘, 썼습니다, 유럽, 용은, 안, 써도, 될, 듯, ㅠ]        [잘, ㅠ]   \n",
       "1            service   [여행, 에서, 사용, 하려고요, 고장, 난, 거, 아니었으면, 하네요]            []   \n",
       "3            service             [돈, 추가, 해서, 구매, 하는, 게, 더, 좋네요]            []   \n",
       "\n",
       "   polarity_total  \n",
       "0               0  \n",
       "1               0  \n",
       "3               0  "
      ]
     },
     "execution_count": 10,
     "metadata": {},
     "output_type": "execute_result"
    }
   ],
   "source": [
    "data['morphs_in_dic'] = data['morphs'].apply(return_morph_in_dict)\n",
    "data['polarity_total'] = data['morphs'].apply(m_sentiment_score)\n",
    "data.head(3)"
   ]
  },
  {
   "cell_type": "code",
   "execution_count": 11,
   "metadata": {},
   "outputs": [],
   "source": [
    "data.to_csv('C:/Users/songy/Desktop/Data/sentiment_data/KNU_dictionary/adaptor_only_word_dict.csv', encoding='utf-8-sig')"
   ]
  },
  {
   "cell_type": "markdown",
   "metadata": {},
   "source": [
    "### 감성 사전 추가 대상 파악"
   ]
  },
  {
   "cell_type": "code",
   "execution_count": null,
   "metadata": {},
   "outputs": [],
   "source": [
    "import collections\n",
    "\n",
    "### 추가 형태소 분석 후 사전 반영 \n",
    "dict_morphs_count = collections.Counter(list(data['morphs'].sum()))\n",
    "count_df = pd.DataFrame.from_dict(dict_morphs_count, orient='index').reset_index()\n",
    "count_df.columns= ['morphs','count']\n",
    "count_df"
   ]
  },
  {
   "cell_type": "code",
   "execution_count": null,
   "metadata": {},
   "outputs": [],
   "source": [
    "count_df.to_csv('C:/Users/songy/Desktop/Data/sentiment_data/adaptor_morphs_count.csv', encoding='utf-8-sig')"
   ]
  },
  {
   "cell_type": "code",
   "execution_count": null,
   "metadata": {},
   "outputs": [],
   "source": [
    "sent_dic_w_lst = list(sentiment_dic['word']) + list(sentiment_dic['word_root'])\n",
    "count_df_w_lst = list(count_df['morphs'])\n",
    "\n",
    "target_lst = list(set(count_df_w_lst) - set(sent_dic_w_lst))\n",
    "print(target_lst)"
   ]
  },
  {
   "cell_type": "code",
   "execution_count": null,
   "metadata": {},
   "outputs": [],
   "source": [
    "define_add_sent = count_df[count_df['morphs'].isin(target_lst)]\n",
    "define_add_sent"
   ]
  },
  {
   "cell_type": "code",
   "execution_count": null,
   "metadata": {},
   "outputs": [],
   "source": [
    "define_add_sent.to_csv('C:/Users/songy/Desktop/Data/sentiment_data/adaptor_define_sent.csv', encoding='utf-8-sig')"
   ]
  },
  {
   "cell_type": "code",
   "execution_count": null,
   "metadata": {},
   "outputs": [],
   "source": [
    "# 감성 사전 추가 반영하고, 위에 내용 다시 돌리면 됨."
   ]
  },
  {
   "cell_type": "markdown",
   "metadata": {},
   "source": [
    "### polarity 분포 확인 및 긍정도 feature"
   ]
  },
  {
   "cell_type": "code",
   "execution_count": null,
   "metadata": {},
   "outputs": [],
   "source": []
  },
  {
   "cell_type": "markdown",
   "metadata": {},
   "source": [
    "### 속성에 따른 감성 추출"
   ]
  },
  {
   "cell_type": "code",
   "execution_count": null,
   "metadata": {},
   "outputs": [],
   "source": [
    "data.head(20)"
   ]
  },
  {
   "cell_type": "code",
   "execution_count": null,
   "metadata": {},
   "outputs": [],
   "source": [
    "sentiment_dic[(sentiment_dic['word']=='가')|(sentiment_dic['word_root']=='가')]"
   ]
  },
  {
   "cell_type": "code",
   "execution_count": null,
   "metadata": {},
   "outputs": [],
   "source": []
  }
 ],
 "metadata": {
  "kernelspec": {
   "display_name": "mecab",
   "language": "python",
   "name": "python3"
  },
  "language_info": {
   "codemirror_mode": {
    "name": "ipython",
    "version": 3
   },
   "file_extension": ".py",
   "mimetype": "text/x-python",
   "name": "python",
   "nbconvert_exporter": "python",
   "pygments_lexer": "ipython3",
   "version": "3.9.19"
  }
 },
 "nbformat": 4,
 "nbformat_minor": 2
}
