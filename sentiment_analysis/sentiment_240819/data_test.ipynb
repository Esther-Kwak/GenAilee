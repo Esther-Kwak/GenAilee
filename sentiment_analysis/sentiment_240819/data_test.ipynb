{
 "cells": [
  {
   "cell_type": "code",
   "execution_count": 1,
   "metadata": {},
   "outputs": [],
   "source": [
    "import pandas as pd\n",
    "import numpy as np"
   ]
  },
  {
   "cell_type": "code",
   "execution_count": 2,
   "metadata": {},
   "outputs": [
    {
     "data": {
      "text/html": [
       "<div>\n",
       "<style scoped>\n",
       "    .dataframe tbody tr th:only-of-type {\n",
       "        vertical-align: middle;\n",
       "    }\n",
       "\n",
       "    .dataframe tbody tr th {\n",
       "        vertical-align: top;\n",
       "    }\n",
       "\n",
       "    .dataframe thead th {\n",
       "        text-align: right;\n",
       "    }\n",
       "</style>\n",
       "<table border=\"1\" class=\"dataframe\">\n",
       "  <thead>\n",
       "    <tr style=\"text-align: right;\">\n",
       "      <th></th>\n",
       "      <th>Unnamed: 0.1</th>\n",
       "      <th>Unnamed: 0</th>\n",
       "      <th>brand_name</th>\n",
       "      <th>product_name</th>\n",
       "      <th>write_dt_lst</th>\n",
       "      <th>rating_lst</th>\n",
       "      <th>content_lst</th>\n",
       "      <th>kss_split_text</th>\n",
       "      <th>len</th>\n",
       "      <th>repeated_final</th>\n",
       "      <th>review_type</th>\n",
       "      <th>detail_review_type</th>\n",
       "    </tr>\n",
       "  </thead>\n",
       "  <tbody>\n",
       "    <tr>\n",
       "      <th>0</th>\n",
       "      <td>0</td>\n",
       "      <td>0</td>\n",
       "      <td>SABU</td>\n",
       "      <td>여성 4부 5부 짧은 레깅스 바이커 쇼츠 하이웨스트 운동 스포츠</td>\n",
       "      <td>20240808</td>\n",
       "      <td>5</td>\n",
       "      <td>저렴하고 괜찮네요 운동할 때 잘 입고 있어요</td>\n",
       "      <td>저렴하고 괜찮네요</td>\n",
       "      <td>24</td>\n",
       "      <td>0</td>\n",
       "      <td>일반</td>\n",
       "      <td>service</td>\n",
       "    </tr>\n",
       "    <tr>\n",
       "      <th>1</th>\n",
       "      <td>0</td>\n",
       "      <td>0</td>\n",
       "      <td>SABU</td>\n",
       "      <td>여성 4부 5부 짧은 레깅스 바이커 쇼츠 하이웨스트 운동 스포츠</td>\n",
       "      <td>20240808</td>\n",
       "      <td>5</td>\n",
       "      <td>저렴하고 괜찮네요 운동할 때 잘 입고 있어요</td>\n",
       "      <td>운동할 때 잘 입고 있어요</td>\n",
       "      <td>24</td>\n",
       "      <td>0</td>\n",
       "      <td>단순</td>\n",
       "      <td>service</td>\n",
       "    </tr>\n",
       "    <tr>\n",
       "      <th>2</th>\n",
       "      <td>1</td>\n",
       "      <td>1</td>\n",
       "      <td>SABU</td>\n",
       "      <td>여성 4부 5부 짧은 레깅스 바이커 쇼츠 하이웨스트 운동 스포츠</td>\n",
       "      <td>20240807</td>\n",
       "      <td>5</td>\n",
       "      <td>편안하게 잘 입을게요</td>\n",
       "      <td>편안하게 잘 입을게요</td>\n",
       "      <td>11</td>\n",
       "      <td>0</td>\n",
       "      <td>단순</td>\n",
       "      <td>product</td>\n",
       "    </tr>\n",
       "  </tbody>\n",
       "</table>\n",
       "</div>"
      ],
      "text/plain": [
       "   Unnamed: 0.1  Unnamed: 0 brand_name                         product_name  \\\n",
       "0             0           0       SABU  여성 4부 5부 짧은 레깅스 바이커 쇼츠 하이웨스트 운동 스포츠   \n",
       "1             0           0       SABU  여성 4부 5부 짧은 레깅스 바이커 쇼츠 하이웨스트 운동 스포츠   \n",
       "2             1           1       SABU  여성 4부 5부 짧은 레깅스 바이커 쇼츠 하이웨스트 운동 스포츠   \n",
       "\n",
       "   write_dt_lst  rating_lst               content_lst  kss_split_text  len  \\\n",
       "0      20240808           5  저렴하고 괜찮네요 운동할 때 잘 입고 있어요       저렴하고 괜찮네요   24   \n",
       "1      20240808           5  저렴하고 괜찮네요 운동할 때 잘 입고 있어요  운동할 때 잘 입고 있어요   24   \n",
       "2      20240807           5               편안하게 잘 입을게요     편안하게 잘 입을게요   11   \n",
       "\n",
       "   repeated_final review_type detail_review_type  \n",
       "0               0          일반            service  \n",
       "1               0          단순            service  \n",
       "2               0          단순            product  "
      ]
     },
     "execution_count": 2,
     "metadata": {},
     "output_type": "execute_result"
    }
   ],
   "source": [
    "df =  pd.read_csv('C:/Users/songy/Desktop/Data/sentiment_data/wireless_detail_type.csv',encoding='utf-8-sig', index_col=0)\n",
    "df2 =  pd.read_csv('C:/Users/songy/Desktop/Data/sentiment_data/travel_adaptor_detail_type.csv',encoding='utf-8-sig', index_col=0)\n",
    "df3 = pd.read_csv('C:/Users/songy/Desktop/Data/sentiment_data/maskpack_detail_type.csv',encoding='utf-8-sig')\n",
    "df4 = pd.read_csv('C:/Users/songy/Desktop/Data/sentiment_data/leggings_detail_type.csv',encoding='utf-8-sig', index_col=0)\n",
    "df4.head(3)"
   ]
  },
  {
   "cell_type": "code",
   "execution_count": 25,
   "metadata": {},
   "outputs": [
    {
     "data": {
      "text/plain": [
       "24144"
      ]
     },
     "execution_count": 25,
     "metadata": {},
     "output_type": "execute_result"
    }
   ],
   "source": [
    "df3['Unnamed: 0'].nunique()"
   ]
  },
  {
   "cell_type": "code",
   "execution_count": 26,
   "metadata": {},
   "outputs": [
    {
     "data": {
      "text/plain": [
       "45153"
      ]
     },
     "execution_count": 26,
     "metadata": {},
     "output_type": "execute_result"
    }
   ],
   "source": [
    "len(df3)"
   ]
  },
  {
   "cell_type": "code",
   "execution_count": 27,
   "metadata": {},
   "outputs": [
    {
     "data": {
      "text/plain": [
       "53.47"
      ]
     },
     "execution_count": 27,
     "metadata": {},
     "output_type": "execute_result"
    }
   ],
   "source": [
    "round((df3['Unnamed: 0'].nunique() / len(df3))*100,2)"
   ]
  },
  {
   "cell_type": "code",
   "execution_count": 14,
   "metadata": {},
   "outputs": [
    {
     "data": {
      "text/html": [
       "<div>\n",
       "<style scoped>\n",
       "    .dataframe tbody tr th:only-of-type {\n",
       "        vertical-align: middle;\n",
       "    }\n",
       "\n",
       "    .dataframe tbody tr th {\n",
       "        vertical-align: top;\n",
       "    }\n",
       "\n",
       "    .dataframe thead th {\n",
       "        text-align: right;\n",
       "    }\n",
       "</style>\n",
       "<table border=\"1\" class=\"dataframe\">\n",
       "  <thead>\n",
       "    <tr style=\"text-align: right;\">\n",
       "      <th></th>\n",
       "      <th>Unnamed: 0.1</th>\n",
       "      <th>Unnamed: 0</th>\n",
       "      <th>brand_name</th>\n",
       "      <th>product_name</th>\n",
       "      <th>write_dt_lst</th>\n",
       "      <th>rating_lst</th>\n",
       "      <th>content_lst</th>\n",
       "      <th>kss_split_text</th>\n",
       "      <th>len</th>\n",
       "      <th>repeated_final</th>\n",
       "      <th>review_type</th>\n",
       "      <th>detail_review_type</th>\n",
       "    </tr>\n",
       "  </thead>\n",
       "  <tbody>\n",
       "    <tr>\n",
       "      <th>0</th>\n",
       "      <td>0</td>\n",
       "      <td>0</td>\n",
       "      <td>SABU</td>\n",
       "      <td>여성 4부 5부 짧은 레깅스 바이커 쇼츠 하이웨스트 운동 스포츠</td>\n",
       "      <td>20240808</td>\n",
       "      <td>5</td>\n",
       "      <td>저렴하고 괜찮네요 운동할 때 잘 입고 있어요</td>\n",
       "      <td>저렴하고 괜찮네요</td>\n",
       "      <td>24</td>\n",
       "      <td>0</td>\n",
       "      <td>일반</td>\n",
       "      <td>service</td>\n",
       "    </tr>\n",
       "    <tr>\n",
       "      <th>1</th>\n",
       "      <td>0</td>\n",
       "      <td>0</td>\n",
       "      <td>SABU</td>\n",
       "      <td>여성 4부 5부 짧은 레깅스 바이커 쇼츠 하이웨스트 운동 스포츠</td>\n",
       "      <td>20240808</td>\n",
       "      <td>5</td>\n",
       "      <td>저렴하고 괜찮네요 운동할 때 잘 입고 있어요</td>\n",
       "      <td>운동할 때 잘 입고 있어요</td>\n",
       "      <td>24</td>\n",
       "      <td>0</td>\n",
       "      <td>단순</td>\n",
       "      <td>service</td>\n",
       "    </tr>\n",
       "    <tr>\n",
       "      <th>2</th>\n",
       "      <td>1</td>\n",
       "      <td>1</td>\n",
       "      <td>SABU</td>\n",
       "      <td>여성 4부 5부 짧은 레깅스 바이커 쇼츠 하이웨스트 운동 스포츠</td>\n",
       "      <td>20240807</td>\n",
       "      <td>5</td>\n",
       "      <td>편안하게 잘 입을게요</td>\n",
       "      <td>편안하게 잘 입을게요</td>\n",
       "      <td>11</td>\n",
       "      <td>0</td>\n",
       "      <td>단순</td>\n",
       "      <td>product</td>\n",
       "    </tr>\n",
       "  </tbody>\n",
       "</table>\n",
       "</div>"
      ],
      "text/plain": [
       "   Unnamed: 0.1  Unnamed: 0 brand_name                         product_name  \\\n",
       "0             0           0       SABU  여성 4부 5부 짧은 레깅스 바이커 쇼츠 하이웨스트 운동 스포츠   \n",
       "1             0           0       SABU  여성 4부 5부 짧은 레깅스 바이커 쇼츠 하이웨스트 운동 스포츠   \n",
       "2             1           1       SABU  여성 4부 5부 짧은 레깅스 바이커 쇼츠 하이웨스트 운동 스포츠   \n",
       "\n",
       "   write_dt_lst  rating_lst               content_lst  kss_split_text  len  \\\n",
       "0      20240808           5  저렴하고 괜찮네요 운동할 때 잘 입고 있어요       저렴하고 괜찮네요   24   \n",
       "1      20240808           5  저렴하고 괜찮네요 운동할 때 잘 입고 있어요  운동할 때 잘 입고 있어요   24   \n",
       "2      20240807           5               편안하게 잘 입을게요     편안하게 잘 입을게요   11   \n",
       "\n",
       "   repeated_final review_type detail_review_type  \n",
       "0               0          일반            service  \n",
       "1               0          단순            service  \n",
       "2               0          단순            product  "
      ]
     },
     "execution_count": 14,
     "metadata": {},
     "output_type": "execute_result"
    }
   ],
   "source": [
    "df4.head(3)"
   ]
  },
  {
   "cell_type": "code",
   "execution_count": 15,
   "metadata": {},
   "outputs": [
    {
     "data": {
      "text/html": [
       "<div>\n",
       "<style scoped>\n",
       "    .dataframe tbody tr th:only-of-type {\n",
       "        vertical-align: middle;\n",
       "    }\n",
       "\n",
       "    .dataframe tbody tr th {\n",
       "        vertical-align: top;\n",
       "    }\n",
       "\n",
       "    .dataframe thead th {\n",
       "        text-align: right;\n",
       "    }\n",
       "</style>\n",
       "<table border=\"1\" class=\"dataframe\">\n",
       "  <thead>\n",
       "    <tr style=\"text-align: right;\">\n",
       "      <th></th>\n",
       "      <th>rating_lst</th>\n",
       "      <th>proportion</th>\n",
       "    </tr>\n",
       "  </thead>\n",
       "  <tbody>\n",
       "    <tr>\n",
       "      <th>0</th>\n",
       "      <td>5</td>\n",
       "      <td>79.65</td>\n",
       "    </tr>\n",
       "    <tr>\n",
       "      <th>1</th>\n",
       "      <td>4</td>\n",
       "      <td>13.66</td>\n",
       "    </tr>\n",
       "    <tr>\n",
       "      <th>2</th>\n",
       "      <td>3</td>\n",
       "      <td>5.23</td>\n",
       "    </tr>\n",
       "    <tr>\n",
       "      <th>3</th>\n",
       "      <td>2</td>\n",
       "      <td>0.75</td>\n",
       "    </tr>\n",
       "    <tr>\n",
       "      <th>4</th>\n",
       "      <td>1</td>\n",
       "      <td>0.71</td>\n",
       "    </tr>\n",
       "  </tbody>\n",
       "</table>\n",
       "</div>"
      ],
      "text/plain": [
       "   rating_lst  proportion\n",
       "0           5       79.65\n",
       "1           4       13.66\n",
       "2           3        5.23\n",
       "3           2        0.75\n",
       "4           1        0.71"
      ]
     },
     "execution_count": 15,
     "metadata": {},
     "output_type": "execute_result"
    }
   ],
   "source": [
    "round((df4['rating_lst'].value_counts(normalize=True))*100,2).to_frame().reset_index()"
   ]
  },
  {
   "cell_type": "code",
   "execution_count": null,
   "metadata": {},
   "outputs": [],
   "source": []
  }
 ],
 "metadata": {
  "kernelspec": {
   "display_name": "mecab",
   "language": "python",
   "name": "python3"
  },
  "language_info": {
   "codemirror_mode": {
    "name": "ipython",
    "version": 3
   },
   "file_extension": ".py",
   "mimetype": "text/x-python",
   "name": "python",
   "nbconvert_exporter": "python",
   "pygments_lexer": "ipython3",
   "version": "3.9.19"
  }
 },
 "nbformat": 4,
 "nbformat_minor": 2
}
